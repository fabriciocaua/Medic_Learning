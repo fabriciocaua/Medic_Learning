{
  "cells": [
    {
      "cell_type": "markdown",
      "metadata": {
        "id": "n5oVEItyM6oV"
      },
      "source": [
        "# Modelo de classifição de risco de doença cardíaca\n",
        "\n",
        "### Exemplo de classificação binária\n",
        "\n",
        "Neste exemplo temos como **objetivo** inferir se um dado paciente tem **risco de doença cardíaca** ou não.\n",
        "\n",
        "Para tanto, utilizaremos 6 atributos (características ou variáveis independentes), os quais serão baseados nas seguintes perguntas:\n",
        "\n",
        "* tem pressão arterial acima de 140/90 mmHg (**A1**)?\n",
        "* tem índice de massa corporal (IMC) acima de 30 (**A2**)?\n",
        "* tem histórico familiar de doença cardíaca (**A3**)?\n",
        "* fuma atualmente (**A4**)?\n",
        "* pratica menos de 150 minutos de atividade física por semana (**A5**)?\n",
        "* Possui uma dieta inadequada(**A6**)?\n",
        "* consome excessivamente bebidas alcoólicas (**A7**)?\n"
      ]
    },
    {
      "cell_type": "markdown",
      "metadata": {
        "id": "7yYeDt4hM6oZ"
      },
      "source": [
        "## Dados de treinamento\n",
        "\n",
        "* Usaremos 20 indivíduos para realizar o treinamento do algoritmo de aprendizagem de máquina.\n",
        "* Observe que as colunas representam os atributos $A1...A7$ e as linhas representam os indivíduos (instâncias).\n",
        "* A propósito, os dados são fictícios e não necessariamente representam a verdade sobre os indivíduos mencionados."
      ]
    },
    {
      "cell_type": "code",
      "execution_count": 2,
      "metadata": {
        "id": "CzomYRroM6oa"
      },
      "outputs": [],
      "source": [
        "import numpy as np"
      ]
    },
    {
      "cell_type": "code",
      "execution_count": 3,
      "metadata": {
        "id": "UGy4H_1wM6ob"
      },
      "outputs": [],
      "source": [
        "X_train = [\n",
        "    [1, 1, 1, 1, 1, 1, 1],  # Paciente 1\n",
        "    [0, 0, 0, 0, 1, 0, 0],  # Paciente 2\n",
        "    [1, 1, 1, 1, 0, 1, 1],  # Paciente 3\n",
        "    [0, 1, 1, 1, 1, 1, 0],  # Paciente 4\n",
        "    [1, 1, 1, 0, 0, 1, 0],  # Paciente 5\n",
        "    [0, 0, 0, 1, 0, 0, 1],  # Paciente 6\n",
        "    [1, 0, 1, 1, 0, 0, 0],  # Paciente 7\n",
        "    [1, 1, 1, 0, 0, 1, 0],  # Paciente 8\n",
        "    [1, 0, 0, 0, 0, 0, 0],  # Paciente 9\n",
        "    [1, 1, 1, 1, 0, 1, 0],   # Paciente 10\n",
        "    [0, 0, 0, 0, 0, 0, 0],  # Paciente 11\n",
        "    [0, 1, 0, 0, 0, 1, 0],  # Paciente 12\n",
        "    [0, 1, 1, 0, 0, 0, 0],  # Paciente 13\n",
        "    [0, 1, 0, 1, 0, 0, 1],  # Paciente 14\n",
        "    [0, 0, 1, 0, 0, 1, 0],  # Paciente 15\n",
        "    [0, 0, 1, 0, 0, 0, 0],  # Paciente 16\n",
        "    [1, 1, 0, 0, 1, 1, 0],  # Paciente 17\n",
        "    [0, 0, 1, 1, 0, 0, 1],  # Paciente 18\n",
        "    [0, 0, 0, 0, 0, 0, 1],  # Paciente 19\n",
        "    [0, 0, 1, 0, 1, 0, 0]  # Paciente 20\n",
        "]"
      ]
    },
    {
      "cell_type": "code",
      "execution_count": 4,
      "metadata": {
        "id": "UASsDohsM6ob"
      },
      "outputs": [],
      "source": [
        "X_train = np.array(X_train)"
      ]
    },
    {
      "cell_type": "markdown",
      "metadata": {
        "id": "N44oDMCFM6oc"
      },
      "source": [
        "## Classes dos dados de treinamento\n",
        "\n",
        "* Em aprendizagem de máquina supervisionada, as classes (também conhecida como variávies dependentes, variáveis preditivas, target ou rótulos) são conhecidas.\n",
        "* Em outras palavras, as respostas já são conhecidas.\n",
        "* No problema em destaque aqui, para cada um dos indivíduos listados acima, nós já sabemos se eles possuem risco cardíaco.\n",
        "* Iremos representar como $0$ as pessoas que não possuem risco cardíaco e com $1$ para os que possuem risco cardíaco.\n",
        "* Observe que a primeira linha do vetor $y\\_train$ (abaixo) representa a classe da primeira instância da matriz $X\\_train$ acima.\n",
        "    * Esse lógica segue para as demais instâncias."
      ]
    },
    {
      "cell_type": "code",
      "execution_count": 5,
      "metadata": {
        "id": "av9BG0mPM6oc"
      },
      "outputs": [],
      "source": [
        "y_train = [\n",
        "     1,  # Paciente 1\n",
        "     0,  # Paciente 2\n",
        "     1,  # Paciente 3\n",
        "     1,  # Paciente 4\n",
        "     1,  # Paciente 5\n",
        "     1,  # Paciente 6\n",
        "     1,  # Paciente 7\n",
        "     1,  # Paciente 8\n",
        "     0,  # Paciente 9\n",
        "     1,   # Paciente 10\n",
        "     0,  # Paciente 11\n",
        "     1,  # Paciente 12\n",
        "     0,  # Paciente 13\n",
        "     1,  # Paciente 14\n",
        "     1,  # Paciente 15\n",
        "     0,  # Paciente 16\n",
        "     1,  # Paciente 17\n",
        "     1,  # Paciente 18\n",
        "     0,  # Paciente 19\n",
        "     0   # Paciente 20\n",
        "]"
      ]
    },
    {
      "cell_type": "code",
      "execution_count": 6,
      "metadata": {
        "id": "4sSsL_t_M6od"
      },
      "outputs": [],
      "source": [
        "y_train = np.array(y_train)"
      ]
    },
    {
      "cell_type": "markdown",
      "metadata": {
        "id": "laT_C40QByny"
      },
      "source": [
        "* Apenas para fins de visualização, vamos ver como ficou nossos dados de treino em um dataframe do pandas:"
      ]
    },
    {
      "cell_type": "code",
      "execution_count": 7,
      "metadata": {
        "colab": {
          "base_uri": "https://localhost:8080/",
          "height": 1000
        },
        "id": "P3mq_66lB4gf",
        "outputId": "5cdc7ab6-5fc7-4a0e-eec2-411f2d321071"
      },
      "outputs": [
        {
          "data": {
            "text/html": [
              "<div>\n",
              "<style scoped>\n",
              "    .dataframe tbody tr th:only-of-type {\n",
              "        vertical-align: middle;\n",
              "    }\n",
              "\n",
              "    .dataframe tbody tr th {\n",
              "        vertical-align: top;\n",
              "    }\n",
              "\n",
              "    .dataframe thead th {\n",
              "        text-align: right;\n",
              "    }\n",
              "</style>\n",
              "<table border=\"1\" class=\"dataframe\">\n",
              "  <thead>\n",
              "    <tr style=\"text-align: right;\">\n",
              "      <th></th>\n",
              "      <th>A1 - pressão arterial alta</th>\n",
              "      <th>A2 - imc alto</th>\n",
              "      <th>A3 - histórico cardíaco ruim</th>\n",
              "      <th>A4 - fumante</th>\n",
              "      <th>A5 - Pratica menos que 150mn de atividade física</th>\n",
              "      <th>A6 - Dieta inadequada</th>\n",
              "      <th>A7 - Consumo excessivo de álcool</th>\n",
              "      <th>Rótulo</th>\n",
              "    </tr>\n",
              "  </thead>\n",
              "  <tbody>\n",
              "    <tr>\n",
              "      <th>Paciente 1</th>\n",
              "      <td>Sim</td>\n",
              "      <td>Sim</td>\n",
              "      <td>Sim</td>\n",
              "      <td>Sim</td>\n",
              "      <td>Sim</td>\n",
              "      <td>Sim</td>\n",
              "      <td>Sim</td>\n",
              "      <td>Sim</td>\n",
              "    </tr>\n",
              "    <tr>\n",
              "      <th>Paciente 2</th>\n",
              "      <td>Não</td>\n",
              "      <td>Não</td>\n",
              "      <td>Não</td>\n",
              "      <td>Não</td>\n",
              "      <td>Sim</td>\n",
              "      <td>Não</td>\n",
              "      <td>Não</td>\n",
              "      <td>Não</td>\n",
              "    </tr>\n",
              "    <tr>\n",
              "      <th>Paciente 3</th>\n",
              "      <td>Sim</td>\n",
              "      <td>Sim</td>\n",
              "      <td>Sim</td>\n",
              "      <td>Sim</td>\n",
              "      <td>Não</td>\n",
              "      <td>Sim</td>\n",
              "      <td>Sim</td>\n",
              "      <td>Sim</td>\n",
              "    </tr>\n",
              "    <tr>\n",
              "      <th>Paciente 4</th>\n",
              "      <td>Não</td>\n",
              "      <td>Sim</td>\n",
              "      <td>Sim</td>\n",
              "      <td>Sim</td>\n",
              "      <td>Sim</td>\n",
              "      <td>Sim</td>\n",
              "      <td>Não</td>\n",
              "      <td>Sim</td>\n",
              "    </tr>\n",
              "    <tr>\n",
              "      <th>Paciente 5</th>\n",
              "      <td>Sim</td>\n",
              "      <td>Sim</td>\n",
              "      <td>Sim</td>\n",
              "      <td>Não</td>\n",
              "      <td>Não</td>\n",
              "      <td>Sim</td>\n",
              "      <td>Não</td>\n",
              "      <td>Sim</td>\n",
              "    </tr>\n",
              "    <tr>\n",
              "      <th>Paciente 6</th>\n",
              "      <td>Não</td>\n",
              "      <td>Não</td>\n",
              "      <td>Não</td>\n",
              "      <td>Sim</td>\n",
              "      <td>Não</td>\n",
              "      <td>Não</td>\n",
              "      <td>Sim</td>\n",
              "      <td>Sim</td>\n",
              "    </tr>\n",
              "    <tr>\n",
              "      <th>Paciente 7</th>\n",
              "      <td>Sim</td>\n",
              "      <td>Não</td>\n",
              "      <td>Sim</td>\n",
              "      <td>Sim</td>\n",
              "      <td>Não</td>\n",
              "      <td>Não</td>\n",
              "      <td>Não</td>\n",
              "      <td>Sim</td>\n",
              "    </tr>\n",
              "    <tr>\n",
              "      <th>Paciente 8</th>\n",
              "      <td>Sim</td>\n",
              "      <td>Sim</td>\n",
              "      <td>Sim</td>\n",
              "      <td>Não</td>\n",
              "      <td>Não</td>\n",
              "      <td>Sim</td>\n",
              "      <td>Não</td>\n",
              "      <td>Sim</td>\n",
              "    </tr>\n",
              "    <tr>\n",
              "      <th>Paciente 9</th>\n",
              "      <td>Sim</td>\n",
              "      <td>Não</td>\n",
              "      <td>Não</td>\n",
              "      <td>Não</td>\n",
              "      <td>Não</td>\n",
              "      <td>Não</td>\n",
              "      <td>Não</td>\n",
              "      <td>Não</td>\n",
              "    </tr>\n",
              "    <tr>\n",
              "      <th>Paciente 10</th>\n",
              "      <td>Sim</td>\n",
              "      <td>Sim</td>\n",
              "      <td>Sim</td>\n",
              "      <td>Sim</td>\n",
              "      <td>Não</td>\n",
              "      <td>Sim</td>\n",
              "      <td>Não</td>\n",
              "      <td>Sim</td>\n",
              "    </tr>\n",
              "    <tr>\n",
              "      <th>Paciente 11</th>\n",
              "      <td>Não</td>\n",
              "      <td>Não</td>\n",
              "      <td>Não</td>\n",
              "      <td>Não</td>\n",
              "      <td>Não</td>\n",
              "      <td>Não</td>\n",
              "      <td>Não</td>\n",
              "      <td>Não</td>\n",
              "    </tr>\n",
              "    <tr>\n",
              "      <th>Paciente 12</th>\n",
              "      <td>Não</td>\n",
              "      <td>Sim</td>\n",
              "      <td>Não</td>\n",
              "      <td>Não</td>\n",
              "      <td>Não</td>\n",
              "      <td>Sim</td>\n",
              "      <td>Não</td>\n",
              "      <td>Sim</td>\n",
              "    </tr>\n",
              "    <tr>\n",
              "      <th>Paciente 13</th>\n",
              "      <td>Não</td>\n",
              "      <td>Sim</td>\n",
              "      <td>Sim</td>\n",
              "      <td>Não</td>\n",
              "      <td>Não</td>\n",
              "      <td>Não</td>\n",
              "      <td>Não</td>\n",
              "      <td>Não</td>\n",
              "    </tr>\n",
              "    <tr>\n",
              "      <th>Paciente 14</th>\n",
              "      <td>Não</td>\n",
              "      <td>Sim</td>\n",
              "      <td>Não</td>\n",
              "      <td>Sim</td>\n",
              "      <td>Não</td>\n",
              "      <td>Não</td>\n",
              "      <td>Sim</td>\n",
              "      <td>Sim</td>\n",
              "    </tr>\n",
              "    <tr>\n",
              "      <th>Paciente 15</th>\n",
              "      <td>Não</td>\n",
              "      <td>Não</td>\n",
              "      <td>Sim</td>\n",
              "      <td>Não</td>\n",
              "      <td>Não</td>\n",
              "      <td>Sim</td>\n",
              "      <td>Não</td>\n",
              "      <td>Sim</td>\n",
              "    </tr>\n",
              "    <tr>\n",
              "      <th>Paciente 16</th>\n",
              "      <td>Não</td>\n",
              "      <td>Não</td>\n",
              "      <td>Sim</td>\n",
              "      <td>Não</td>\n",
              "      <td>Não</td>\n",
              "      <td>Não</td>\n",
              "      <td>Não</td>\n",
              "      <td>Não</td>\n",
              "    </tr>\n",
              "    <tr>\n",
              "      <th>Paciente 17</th>\n",
              "      <td>Sim</td>\n",
              "      <td>Sim</td>\n",
              "      <td>Não</td>\n",
              "      <td>Não</td>\n",
              "      <td>Sim</td>\n",
              "      <td>Sim</td>\n",
              "      <td>Não</td>\n",
              "      <td>Sim</td>\n",
              "    </tr>\n",
              "    <tr>\n",
              "      <th>Paciente 18</th>\n",
              "      <td>Não</td>\n",
              "      <td>Não</td>\n",
              "      <td>Sim</td>\n",
              "      <td>Sim</td>\n",
              "      <td>Não</td>\n",
              "      <td>Não</td>\n",
              "      <td>Sim</td>\n",
              "      <td>Sim</td>\n",
              "    </tr>\n",
              "    <tr>\n",
              "      <th>Paciente 19</th>\n",
              "      <td>Não</td>\n",
              "      <td>Não</td>\n",
              "      <td>Não</td>\n",
              "      <td>Não</td>\n",
              "      <td>Não</td>\n",
              "      <td>Não</td>\n",
              "      <td>Sim</td>\n",
              "      <td>Não</td>\n",
              "    </tr>\n",
              "    <tr>\n",
              "      <th>Paciente 20</th>\n",
              "      <td>Não</td>\n",
              "      <td>Não</td>\n",
              "      <td>Sim</td>\n",
              "      <td>Não</td>\n",
              "      <td>Sim</td>\n",
              "      <td>Não</td>\n",
              "      <td>Não</td>\n",
              "      <td>Não</td>\n",
              "    </tr>\n",
              "  </tbody>\n",
              "</table>\n",
              "</div>"
            ],
            "text/plain": [
              "            A1 - pressão arterial alta A2 - imc alto  \\\n",
              "Paciente 1                         Sim           Sim   \n",
              "Paciente 2                         Não           Não   \n",
              "Paciente 3                         Sim           Sim   \n",
              "Paciente 4                         Não           Sim   \n",
              "Paciente 5                         Sim           Sim   \n",
              "Paciente 6                         Não           Não   \n",
              "Paciente 7                         Sim           Não   \n",
              "Paciente 8                         Sim           Sim   \n",
              "Paciente 9                         Sim           Não   \n",
              "Paciente 10                        Sim           Sim   \n",
              "Paciente 11                        Não           Não   \n",
              "Paciente 12                        Não           Sim   \n",
              "Paciente 13                        Não           Sim   \n",
              "Paciente 14                        Não           Sim   \n",
              "Paciente 15                        Não           Não   \n",
              "Paciente 16                        Não           Não   \n",
              "Paciente 17                        Sim           Sim   \n",
              "Paciente 18                        Não           Não   \n",
              "Paciente 19                        Não           Não   \n",
              "Paciente 20                        Não           Não   \n",
              "\n",
              "            A3 - histórico cardíaco ruim A4 - fumante  \\\n",
              "Paciente 1                           Sim          Sim   \n",
              "Paciente 2                           Não          Não   \n",
              "Paciente 3                           Sim          Sim   \n",
              "Paciente 4                           Sim          Sim   \n",
              "Paciente 5                           Sim          Não   \n",
              "Paciente 6                           Não          Sim   \n",
              "Paciente 7                           Sim          Sim   \n",
              "Paciente 8                           Sim          Não   \n",
              "Paciente 9                           Não          Não   \n",
              "Paciente 10                          Sim          Sim   \n",
              "Paciente 11                          Não          Não   \n",
              "Paciente 12                          Não          Não   \n",
              "Paciente 13                          Sim          Não   \n",
              "Paciente 14                          Não          Sim   \n",
              "Paciente 15                          Sim          Não   \n",
              "Paciente 16                          Sim          Não   \n",
              "Paciente 17                          Não          Não   \n",
              "Paciente 18                          Sim          Sim   \n",
              "Paciente 19                          Não          Não   \n",
              "Paciente 20                          Sim          Não   \n",
              "\n",
              "            A5 - Pratica menos que 150mn de atividade física  \\\n",
              "Paciente 1                                               Sim   \n",
              "Paciente 2                                               Sim   \n",
              "Paciente 3                                               Não   \n",
              "Paciente 4                                               Sim   \n",
              "Paciente 5                                               Não   \n",
              "Paciente 6                                               Não   \n",
              "Paciente 7                                               Não   \n",
              "Paciente 8                                               Não   \n",
              "Paciente 9                                               Não   \n",
              "Paciente 10                                              Não   \n",
              "Paciente 11                                              Não   \n",
              "Paciente 12                                              Não   \n",
              "Paciente 13                                              Não   \n",
              "Paciente 14                                              Não   \n",
              "Paciente 15                                              Não   \n",
              "Paciente 16                                              Não   \n",
              "Paciente 17                                              Sim   \n",
              "Paciente 18                                              Não   \n",
              "Paciente 19                                              Não   \n",
              "Paciente 20                                              Sim   \n",
              "\n",
              "            A6 - Dieta inadequada A7 - Consumo excessivo de álcool Rótulo  \n",
              "Paciente 1                    Sim                              Sim    Sim  \n",
              "Paciente 2                    Não                              Não    Não  \n",
              "Paciente 3                    Sim                              Sim    Sim  \n",
              "Paciente 4                    Sim                              Não    Sim  \n",
              "Paciente 5                    Sim                              Não    Sim  \n",
              "Paciente 6                    Não                              Sim    Sim  \n",
              "Paciente 7                    Não                              Não    Sim  \n",
              "Paciente 8                    Sim                              Não    Sim  \n",
              "Paciente 9                    Não                              Não    Não  \n",
              "Paciente 10                   Sim                              Não    Sim  \n",
              "Paciente 11                   Não                              Não    Não  \n",
              "Paciente 12                   Sim                              Não    Sim  \n",
              "Paciente 13                   Não                              Não    Não  \n",
              "Paciente 14                   Não                              Sim    Sim  \n",
              "Paciente 15                   Sim                              Não    Sim  \n",
              "Paciente 16                   Não                              Não    Não  \n",
              "Paciente 17                   Sim                              Não    Sim  \n",
              "Paciente 18                   Não                              Sim    Sim  \n",
              "Paciente 19                   Não                              Sim    Não  \n",
              "Paciente 20                   Não                              Não    Não  "
            ]
          },
          "execution_count": 7,
          "metadata": {},
          "output_type": "execute_result"
        }
      ],
      "source": [
        "import pandas as pd\n",
        "df_train = pd.DataFrame(X_train, columns=['A1 - pressão arterial alta', 'A2 - imc alto', 'A3 - histórico cardíaco ruim', 'A4 - fumante', 'A5 - Pratica menos que 150mn de atividade física','A6 - Dieta inadequada',\"A7 - Consumo excessivo de álcool\"])\n",
        "df_train['Rótulo'] = y_train\n",
        "df_train.replace(0, 'Não', inplace=True)\n",
        "df_train.replace(1, 'Sim', inplace=True)\n",
        "df_train.index = ['Paciente 1', 'Paciente 2', 'Paciente 3', 'Paciente 4', 'Paciente 5', 'Paciente 6', 'Paciente 7', 'Paciente 8', 'Paciente 9', 'Paciente 10', 'Paciente 11', 'Paciente 12', 'Paciente 13', 'Paciente 14', 'Paciente 15', 'Paciente 16', 'Paciente 17', 'Paciente 18', 'Paciente 19', 'Paciente 20']\n",
        "df_train"
      ]
    },
    {
      "cell_type": "code",
      "execution_count": 8,
      "metadata": {
        "colab": {
          "base_uri": "https://localhost:8080/"
        },
        "id": "kx3lKtYlDHyB",
        "outputId": "c0acb562-09bc-453d-d343-2aeb4aecc7cd"
      },
      "outputs": [
        {
          "data": {
            "text/plain": [
              "Rótulo\n",
              "Sim    13\n",
              "Não     7\n",
              "Name: count, dtype: int64"
            ]
          },
          "execution_count": 8,
          "metadata": {},
          "output_type": "execute_result"
        }
      ],
      "source": [
        "df_train.Rótulo.value_counts()"
      ]
    },
    {
      "cell_type": "markdown",
      "metadata": {
        "id": "4Sk6_8wEM6oe"
      },
      "source": [
        "## Dados de teste\n",
        "\n",
        "* Agora vamos usar alguns dados para testar o modelo preditivo que vamos construir.\n",
        "* Os dados de teste devem possuir o mesmo número de colunas e o mesmo tipo de dados nas colunas que os dados de treinamento."
      ]
    },
    {
      "cell_type": "markdown",
      "metadata": {
        "id": "W0_vKVrc6spS"
      },
      "source": [
        "##Relembrando nossos atributos(perguntas)\n",
        "* tem pressão arterial acima de 140/90 mmHg (**A1**)?\n",
        "* tem índice de massa corporal (IMC) acima de 30 (**A2**)?\n",
        "* tem histórico familiar de doença cardíaca (**A3**)?\n",
        "* fuma atualmente (**A4**)?\n",
        "* pratica menos de 150 minutos de atividade física por semana (**A5**)?\n",
        "* Possui uma dieta inadequada(**A6**)?\n",
        "* consome excessivamente bebidas alcoólicas (**A7**)?"
      ]
    },
    {
      "cell_type": "code",
      "execution_count": 9,
      "metadata": {
        "id": "3Hp6QArTM6oe"
      },
      "outputs": [],
      "source": [
        "X_test = [\n",
        "    [1, 1, 1, 1, 0, 1, 1], # Paciente 21\n",
        "    [0, 0, 0, 1, 0, 1, 1], # Paciente 22\n",
        "    [0, 0, 1, 1, 1, 0, 1], # Paciente 23\n",
        "    [1, 1, 1, 1, 1, 1, 0], # Paciente 24\n",
        "    [1, 1, 1, 0, 1, 1, 0], # Paciente 25\n",
        "    [1, 0, 0, 0, 0, 0, 1], # Paciente 26\n",
        "    [0, 0, 0, 0, 0, 1, 1], # Paciente 27\n",
        "    [0, 0, 0, 0, 1, 1, 0], # Paciente 28\n",
        "    [0, 0, 0, 0, 0, 1, 0], # Paciente 29\n",
        "    [0, 0, 0, 0, 1, 1, 0] # Paciente 30\n",
        "]"
      ]
    },
    {
      "cell_type": "code",
      "execution_count": 10,
      "metadata": {
        "id": "UQ2oAe2oM6oe"
      },
      "outputs": [],
      "source": [
        "X_test = np.array(X_test)"
      ]
    },
    {
      "cell_type": "markdown",
      "metadata": {
        "id": "7Nx_H9DBM6oe"
      },
      "source": [
        "## Classe dos dados de teste"
      ]
    },
    {
      "cell_type": "code",
      "execution_count": 11,
      "metadata": {
        "id": "q_t13FHSM6of"
      },
      "outputs": [],
      "source": [
        "y_test = [\n",
        "     1,  # Paciente 21\n",
        "     1,  # Paciente 22\n",
        "     1,  # Paciente 23\n",
        "     1,  # Paciente 24\n",
        "     1,  # Paciente 25\n",
        "     0,  # Paciente 26\n",
        "     0,  # Paciente 27\n",
        "     0,  # Paciente 28\n",
        "     0,  # Paciente 29\n",
        "     0   # Paciente 30\n",
        "]"
      ]
    },
    {
      "cell_type": "code",
      "execution_count": 12,
      "metadata": {
        "id": "t8DVk8FuM6of"
      },
      "outputs": [],
      "source": [
        "y_test = np.array(y_test)"
      ]
    },
    {
      "cell_type": "markdown",
      "metadata": {
        "id": "z_z_WIrxielF"
      },
      "source": [
        "* Para fins de visualização, vamos criar um dataframe para a base de teste também:"
      ]
    },
    {
      "cell_type": "code",
      "execution_count": 13,
      "metadata": {
        "colab": {
          "base_uri": "https://localhost:8080/",
          "height": 571
        },
        "id": "DQgJHRWzijvf",
        "outputId": "97a26ee6-f953-44e1-d829-3e8044a2a438"
      },
      "outputs": [
        {
          "data": {
            "text/html": [
              "<div>\n",
              "<style scoped>\n",
              "    .dataframe tbody tr th:only-of-type {\n",
              "        vertical-align: middle;\n",
              "    }\n",
              "\n",
              "    .dataframe tbody tr th {\n",
              "        vertical-align: top;\n",
              "    }\n",
              "\n",
              "    .dataframe thead th {\n",
              "        text-align: right;\n",
              "    }\n",
              "</style>\n",
              "<table border=\"1\" class=\"dataframe\">\n",
              "  <thead>\n",
              "    <tr style=\"text-align: right;\">\n",
              "      <th></th>\n",
              "      <th>A1 - pressão arterial alta</th>\n",
              "      <th>A2 - imc alto</th>\n",
              "      <th>A3 - histórico cardíaco ruim</th>\n",
              "      <th>A4 - fumante</th>\n",
              "      <th>A5 - Pratica menos que 150mn de atividade física</th>\n",
              "      <th>A6 - Dieta inadequada</th>\n",
              "      <th>A7 - Consumo excessivo de álcool</th>\n",
              "      <th>Rótulo</th>\n",
              "    </tr>\n",
              "  </thead>\n",
              "  <tbody>\n",
              "    <tr>\n",
              "      <th>Paciente 21</th>\n",
              "      <td>Sim</td>\n",
              "      <td>Sim</td>\n",
              "      <td>Sim</td>\n",
              "      <td>Sim</td>\n",
              "      <td>Não</td>\n",
              "      <td>Sim</td>\n",
              "      <td>Sim</td>\n",
              "      <td>Sim</td>\n",
              "    </tr>\n",
              "    <tr>\n",
              "      <th>Paciente 22</th>\n",
              "      <td>Não</td>\n",
              "      <td>Não</td>\n",
              "      <td>Não</td>\n",
              "      <td>Sim</td>\n",
              "      <td>Não</td>\n",
              "      <td>Sim</td>\n",
              "      <td>Sim</td>\n",
              "      <td>Sim</td>\n",
              "    </tr>\n",
              "    <tr>\n",
              "      <th>Paciente 23</th>\n",
              "      <td>Não</td>\n",
              "      <td>Não</td>\n",
              "      <td>Sim</td>\n",
              "      <td>Sim</td>\n",
              "      <td>Sim</td>\n",
              "      <td>Não</td>\n",
              "      <td>Sim</td>\n",
              "      <td>Sim</td>\n",
              "    </tr>\n",
              "    <tr>\n",
              "      <th>Paciente 24</th>\n",
              "      <td>Sim</td>\n",
              "      <td>Sim</td>\n",
              "      <td>Sim</td>\n",
              "      <td>Sim</td>\n",
              "      <td>Sim</td>\n",
              "      <td>Sim</td>\n",
              "      <td>Não</td>\n",
              "      <td>Sim</td>\n",
              "    </tr>\n",
              "    <tr>\n",
              "      <th>Paciente 25</th>\n",
              "      <td>Sim</td>\n",
              "      <td>Sim</td>\n",
              "      <td>Sim</td>\n",
              "      <td>Não</td>\n",
              "      <td>Sim</td>\n",
              "      <td>Sim</td>\n",
              "      <td>Não</td>\n",
              "      <td>Sim</td>\n",
              "    </tr>\n",
              "    <tr>\n",
              "      <th>Paciente 26</th>\n",
              "      <td>Sim</td>\n",
              "      <td>Não</td>\n",
              "      <td>Não</td>\n",
              "      <td>Não</td>\n",
              "      <td>Não</td>\n",
              "      <td>Não</td>\n",
              "      <td>Sim</td>\n",
              "      <td>Não</td>\n",
              "    </tr>\n",
              "    <tr>\n",
              "      <th>Paciente 27</th>\n",
              "      <td>Não</td>\n",
              "      <td>Não</td>\n",
              "      <td>Não</td>\n",
              "      <td>Não</td>\n",
              "      <td>Não</td>\n",
              "      <td>Sim</td>\n",
              "      <td>Sim</td>\n",
              "      <td>Não</td>\n",
              "    </tr>\n",
              "    <tr>\n",
              "      <th>Paciente 28</th>\n",
              "      <td>Não</td>\n",
              "      <td>Não</td>\n",
              "      <td>Não</td>\n",
              "      <td>Não</td>\n",
              "      <td>Sim</td>\n",
              "      <td>Sim</td>\n",
              "      <td>Não</td>\n",
              "      <td>Não</td>\n",
              "    </tr>\n",
              "    <tr>\n",
              "      <th>Paciente 29</th>\n",
              "      <td>Não</td>\n",
              "      <td>Não</td>\n",
              "      <td>Não</td>\n",
              "      <td>Não</td>\n",
              "      <td>Não</td>\n",
              "      <td>Sim</td>\n",
              "      <td>Não</td>\n",
              "      <td>Não</td>\n",
              "    </tr>\n",
              "    <tr>\n",
              "      <th>Paciente 30</th>\n",
              "      <td>Não</td>\n",
              "      <td>Não</td>\n",
              "      <td>Não</td>\n",
              "      <td>Não</td>\n",
              "      <td>Sim</td>\n",
              "      <td>Sim</td>\n",
              "      <td>Não</td>\n",
              "      <td>Não</td>\n",
              "    </tr>\n",
              "  </tbody>\n",
              "</table>\n",
              "</div>"
            ],
            "text/plain": [
              "            A1 - pressão arterial alta A2 - imc alto  \\\n",
              "Paciente 21                        Sim           Sim   \n",
              "Paciente 22                        Não           Não   \n",
              "Paciente 23                        Não           Não   \n",
              "Paciente 24                        Sim           Sim   \n",
              "Paciente 25                        Sim           Sim   \n",
              "Paciente 26                        Sim           Não   \n",
              "Paciente 27                        Não           Não   \n",
              "Paciente 28                        Não           Não   \n",
              "Paciente 29                        Não           Não   \n",
              "Paciente 30                        Não           Não   \n",
              "\n",
              "            A3 - histórico cardíaco ruim A4 - fumante  \\\n",
              "Paciente 21                          Sim          Sim   \n",
              "Paciente 22                          Não          Sim   \n",
              "Paciente 23                          Sim          Sim   \n",
              "Paciente 24                          Sim          Sim   \n",
              "Paciente 25                          Sim          Não   \n",
              "Paciente 26                          Não          Não   \n",
              "Paciente 27                          Não          Não   \n",
              "Paciente 28                          Não          Não   \n",
              "Paciente 29                          Não          Não   \n",
              "Paciente 30                          Não          Não   \n",
              "\n",
              "            A5 - Pratica menos que 150mn de atividade física  \\\n",
              "Paciente 21                                              Não   \n",
              "Paciente 22                                              Não   \n",
              "Paciente 23                                              Sim   \n",
              "Paciente 24                                              Sim   \n",
              "Paciente 25                                              Sim   \n",
              "Paciente 26                                              Não   \n",
              "Paciente 27                                              Não   \n",
              "Paciente 28                                              Sim   \n",
              "Paciente 29                                              Não   \n",
              "Paciente 30                                              Sim   \n",
              "\n",
              "            A6 - Dieta inadequada A7 - Consumo excessivo de álcool Rótulo  \n",
              "Paciente 21                   Sim                              Sim    Sim  \n",
              "Paciente 22                   Sim                              Sim    Sim  \n",
              "Paciente 23                   Não                              Sim    Sim  \n",
              "Paciente 24                   Sim                              Não    Sim  \n",
              "Paciente 25                   Sim                              Não    Sim  \n",
              "Paciente 26                   Não                              Sim    Não  \n",
              "Paciente 27                   Sim                              Sim    Não  \n",
              "Paciente 28                   Sim                              Não    Não  \n",
              "Paciente 29                   Sim                              Não    Não  \n",
              "Paciente 30                   Sim                              Não    Não  "
            ]
          },
          "execution_count": 13,
          "metadata": {},
          "output_type": "execute_result"
        }
      ],
      "source": [
        "df_test = pd.DataFrame(X_test, columns=['A1 - pressão arterial alta', 'A2 - imc alto', 'A3 - histórico cardíaco ruim', 'A4 - fumante', 'A5 - Pratica menos que 150mn de atividade física', 'A6 - Dieta inadequada', 'A7 - Consumo excessivo de álcool'])\n",
        "df_test['Rótulo'] = y_test\n",
        "df_test.replace(0, 'Não', inplace=True)\n",
        "df_test.replace(1, 'Sim', inplace=True)\n",
        "df_test.index = ['Paciente 21', 'Paciente 22', 'Paciente 23', 'Paciente 24', 'Paciente 25', 'Paciente 26', 'Paciente 27', 'Paciente 28', 'Paciente 29', 'Paciente 30']\n",
        "df_test"
      ]
    },
    {
      "cell_type": "markdown",
      "metadata": {
        "id": "GlQUAGRyM6of"
      },
      "source": [
        "## Treinamento do modelo\n",
        "\n",
        "* Para treinar o modelo, iremos utilizar um algoritmo bem simples: Naive Bayes.\n",
        "* Como nossas features são dicotômicas (0's e 1's), iremos usar a distribuição de Bernolli que é empregada em distribuições binomiais."
      ]
    },
    {
      "cell_type": "code",
      "execution_count": 14,
      "metadata": {
        "colab": {
          "base_uri": "https://localhost:8080/",
          "height": 74
        },
        "id": "_JcZsNRkM6of",
        "outputId": "5fbd33be-ad10-417c-d51b-24c7f9b762e3"
      },
      "outputs": [
        {
          "data": {
            "text/html": [
              "<style>#sk-container-id-1 {color: black;}#sk-container-id-1 pre{padding: 0;}#sk-container-id-1 div.sk-toggleable {background-color: white;}#sk-container-id-1 label.sk-toggleable__label {cursor: pointer;display: block;width: 100%;margin-bottom: 0;padding: 0.3em;box-sizing: border-box;text-align: center;}#sk-container-id-1 label.sk-toggleable__label-arrow:before {content: \"▸\";float: left;margin-right: 0.25em;color: #696969;}#sk-container-id-1 label.sk-toggleable__label-arrow:hover:before {color: black;}#sk-container-id-1 div.sk-estimator:hover label.sk-toggleable__label-arrow:before {color: black;}#sk-container-id-1 div.sk-toggleable__content {max-height: 0;max-width: 0;overflow: hidden;text-align: left;background-color: #f0f8ff;}#sk-container-id-1 div.sk-toggleable__content pre {margin: 0.2em;color: black;border-radius: 0.25em;background-color: #f0f8ff;}#sk-container-id-1 input.sk-toggleable__control:checked~div.sk-toggleable__content {max-height: 200px;max-width: 100%;overflow: auto;}#sk-container-id-1 input.sk-toggleable__control:checked~label.sk-toggleable__label-arrow:before {content: \"▾\";}#sk-container-id-1 div.sk-estimator input.sk-toggleable__control:checked~label.sk-toggleable__label {background-color: #d4ebff;}#sk-container-id-1 div.sk-label input.sk-toggleable__control:checked~label.sk-toggleable__label {background-color: #d4ebff;}#sk-container-id-1 input.sk-hidden--visually {border: 0;clip: rect(1px 1px 1px 1px);clip: rect(1px, 1px, 1px, 1px);height: 1px;margin: -1px;overflow: hidden;padding: 0;position: absolute;width: 1px;}#sk-container-id-1 div.sk-estimator {font-family: monospace;background-color: #f0f8ff;border: 1px dotted black;border-radius: 0.25em;box-sizing: border-box;margin-bottom: 0.5em;}#sk-container-id-1 div.sk-estimator:hover {background-color: #d4ebff;}#sk-container-id-1 div.sk-parallel-item::after {content: \"\";width: 100%;border-bottom: 1px solid gray;flex-grow: 1;}#sk-container-id-1 div.sk-label:hover label.sk-toggleable__label {background-color: #d4ebff;}#sk-container-id-1 div.sk-serial::before {content: \"\";position: absolute;border-left: 1px solid gray;box-sizing: border-box;top: 0;bottom: 0;left: 50%;z-index: 0;}#sk-container-id-1 div.sk-serial {display: flex;flex-direction: column;align-items: center;background-color: white;padding-right: 0.2em;padding-left: 0.2em;position: relative;}#sk-container-id-1 div.sk-item {position: relative;z-index: 1;}#sk-container-id-1 div.sk-parallel {display: flex;align-items: stretch;justify-content: center;background-color: white;position: relative;}#sk-container-id-1 div.sk-item::before, #sk-container-id-1 div.sk-parallel-item::before {content: \"\";position: absolute;border-left: 1px solid gray;box-sizing: border-box;top: 0;bottom: 0;left: 50%;z-index: -1;}#sk-container-id-1 div.sk-parallel-item {display: flex;flex-direction: column;z-index: 1;position: relative;background-color: white;}#sk-container-id-1 div.sk-parallel-item:first-child::after {align-self: flex-end;width: 50%;}#sk-container-id-1 div.sk-parallel-item:last-child::after {align-self: flex-start;width: 50%;}#sk-container-id-1 div.sk-parallel-item:only-child::after {width: 0;}#sk-container-id-1 div.sk-dashed-wrapped {border: 1px dashed gray;margin: 0 0.4em 0.5em 0.4em;box-sizing: border-box;padding-bottom: 0.4em;background-color: white;}#sk-container-id-1 div.sk-label label {font-family: monospace;font-weight: bold;display: inline-block;line-height: 1.2em;}#sk-container-id-1 div.sk-label-container {text-align: center;}#sk-container-id-1 div.sk-container {/* jupyter's `normalize.less` sets `[hidden] { display: none; }` but bootstrap.min.css set `[hidden] { display: none !important; }` so we also need the `!important` here to be able to override the default hidden behavior on the sphinx rendered scikit-learn.org. See: https://github.com/scikit-learn/scikit-learn/issues/21755 */display: inline-block !important;position: relative;}#sk-container-id-1 div.sk-text-repr-fallback {display: none;}</style><div id=\"sk-container-id-1\" class=\"sk-top-container\"><div class=\"sk-text-repr-fallback\"><pre>BernoulliNB()</pre><b>In a Jupyter environment, please rerun this cell to show the HTML representation or trust the notebook. <br />On GitHub, the HTML representation is unable to render, please try loading this page with nbviewer.org.</b></div><div class=\"sk-container\" hidden><div class=\"sk-item\"><div class=\"sk-estimator sk-toggleable\"><input class=\"sk-toggleable__control sk-hidden--visually\" id=\"sk-estimator-id-1\" type=\"checkbox\" checked><label for=\"sk-estimator-id-1\" class=\"sk-toggleable__label sk-toggleable__label-arrow\">BernoulliNB</label><div class=\"sk-toggleable__content\"><pre>BernoulliNB()</pre></div></div></div></div></div>"
            ],
            "text/plain": [
              "BernoulliNB()"
            ]
          },
          "execution_count": 14,
          "metadata": {},
          "output_type": "execute_result"
        }
      ],
      "source": [
        "from sklearn.naive_bayes import BernoulliNB\n",
        "\n",
        "clf = BernoulliNB()\n",
        "clf.fit(X_train, y_train)"
      ]
    },
    {
      "cell_type": "markdown",
      "metadata": {
        "id": "USHdIveGM6og"
      },
      "source": [
        "## Teste do modelo\n",
        "\n",
        "* Faremos o teste do modelo com os dados de teste, isto é, dados não conhecidos pelo modelo\n",
        "* Depois iremos apresentar os resultados inferidos."
      ]
    },
    {
      "cell_type": "code",
      "execution_count": 15,
      "metadata": {
        "colab": {
          "base_uri": "https://localhost:8080/"
        },
        "id": "72g7P2e3Qiki",
        "outputId": "4b039962-1a85-4ed0-bc8c-eeef913a7620"
      },
      "outputs": [
        {
          "data": {
            "text/plain": [
              "array([1, 1, 1, 1, 1, 0, 1, 0, 0, 0])"
            ]
          },
          "execution_count": 15,
          "metadata": {},
          "output_type": "execute_result"
        }
      ],
      "source": [
        "resp = clf.predict(X_test)\n",
        "resp"
      ]
    },
    {
      "cell_type": "markdown",
      "metadata": {
        "id": "kMLY4ypfM6og"
      },
      "source": [
        "## Analisando as respostas do modelo preditivo\n",
        "\n",
        "* Um forma de verificar se o modelo acertou é calculando a diferença entre o valor estimado pelo modelo preditivo e o valor real.\n",
        "    * Caso a diferença seja $0$, então o modelo acertou, do contrário o modelo errou.\n",
        "* Para ilustrar, o modelo estimou que o Paciente 21 possui risco cardíaco (resultado estimado é $1$).\n",
        "    * Note que o Paciente 21 realmente possui risco cardíaco, logo sua classe é $1$.\n",
        "    * Assim a diferença entre o valor estimado e o valor real é zero ($1-1 = 0$).\n",
        "* Observe que no caso abaixo, houve apenas um erro referente ao Paciente 26.\n",
        "    * Ou seja, o algoritmo estimou erradamente que o Paciente 26 não possui risco cardíaco."
      ]
    },
    {
      "cell_type": "code",
      "execution_count": 16,
      "metadata": {
        "colab": {
          "base_uri": "https://localhost:8080/"
        },
        "id": "itIO7Xj6M6og",
        "outputId": "781186ce-5fb3-4e6d-b830-c388bb66477c"
      },
      "outputs": [
        {
          "data": {
            "text/plain": [
              "array([0, 0, 0, 0, 0, 0, 1, 0, 0, 0])"
            ]
          },
          "execution_count": 16,
          "metadata": {},
          "output_type": "execute_result"
        }
      ],
      "source": [
        "diferencas = resp - y_test\n",
        "diferencas"
      ]
    },
    {
      "cell_type": "code",
      "execution_count": 17,
      "metadata": {
        "colab": {
          "base_uri": "https://localhost:8080/"
        },
        "id": "_UBEd4fCjdGS",
        "outputId": "9f32e443-8106-41c1-d9c5-1a555d8adcb3"
      },
      "outputs": [
        {
          "name": "stdout",
          "output_type": "stream",
          "text": [
            "Paciente 26 - valor real ->  0\n",
            "Paciente 26 - valor estimado ->  1\n"
          ]
        }
      ],
      "source": [
        "print(\"Paciente 26 - valor real -> \", y_test[6])\n",
        "print(\"Paciente 26 - valor estimado -> \", resp[6])"
      ]
    },
    {
      "cell_type": "code",
      "execution_count": 18,
      "metadata": {
        "colab": {
          "base_uri": "https://localhost:8080/",
          "height": 571
        },
        "id": "iOrYXLUgxDjL",
        "outputId": "8b2b475a-60b4-4726-9dda-28c36c4ccb48"
      },
      "outputs": [
        {
          "data": {
            "text/html": [
              "<div>\n",
              "<style scoped>\n",
              "    .dataframe tbody tr th:only-of-type {\n",
              "        vertical-align: middle;\n",
              "    }\n",
              "\n",
              "    .dataframe tbody tr th {\n",
              "        vertical-align: top;\n",
              "    }\n",
              "\n",
              "    .dataframe thead th {\n",
              "        text-align: right;\n",
              "    }\n",
              "</style>\n",
              "<table border=\"1\" class=\"dataframe\">\n",
              "  <thead>\n",
              "    <tr style=\"text-align: right;\">\n",
              "      <th></th>\n",
              "      <th>A1 - pressão arterial alta</th>\n",
              "      <th>A2 - imc alto</th>\n",
              "      <th>A3 - histórico cardíaco ruim</th>\n",
              "      <th>A4 - fumante</th>\n",
              "      <th>A5 - Pratica menos que 150mn de atividade física</th>\n",
              "      <th>A6 - Dieta inadequada</th>\n",
              "      <th>A7 - Consumo excessivo de álcool</th>\n",
              "      <th>Rótulo</th>\n",
              "    </tr>\n",
              "  </thead>\n",
              "  <tbody>\n",
              "    <tr>\n",
              "      <th>Paciente 21</th>\n",
              "      <td>Sim</td>\n",
              "      <td>Sim</td>\n",
              "      <td>Sim</td>\n",
              "      <td>Sim</td>\n",
              "      <td>Não</td>\n",
              "      <td>Sim</td>\n",
              "      <td>Sim</td>\n",
              "      <td>Sim</td>\n",
              "    </tr>\n",
              "    <tr>\n",
              "      <th>Paciente 22</th>\n",
              "      <td>Não</td>\n",
              "      <td>Não</td>\n",
              "      <td>Não</td>\n",
              "      <td>Sim</td>\n",
              "      <td>Não</td>\n",
              "      <td>Sim</td>\n",
              "      <td>Sim</td>\n",
              "      <td>Sim</td>\n",
              "    </tr>\n",
              "    <tr>\n",
              "      <th>Paciente 23</th>\n",
              "      <td>Não</td>\n",
              "      <td>Não</td>\n",
              "      <td>Sim</td>\n",
              "      <td>Sim</td>\n",
              "      <td>Sim</td>\n",
              "      <td>Não</td>\n",
              "      <td>Sim</td>\n",
              "      <td>Sim</td>\n",
              "    </tr>\n",
              "    <tr>\n",
              "      <th>Paciente 24</th>\n",
              "      <td>Sim</td>\n",
              "      <td>Sim</td>\n",
              "      <td>Sim</td>\n",
              "      <td>Sim</td>\n",
              "      <td>Sim</td>\n",
              "      <td>Sim</td>\n",
              "      <td>Não</td>\n",
              "      <td>Sim</td>\n",
              "    </tr>\n",
              "    <tr>\n",
              "      <th>Paciente 25</th>\n",
              "      <td>Sim</td>\n",
              "      <td>Sim</td>\n",
              "      <td>Sim</td>\n",
              "      <td>Não</td>\n",
              "      <td>Sim</td>\n",
              "      <td>Sim</td>\n",
              "      <td>Não</td>\n",
              "      <td>Sim</td>\n",
              "    </tr>\n",
              "    <tr>\n",
              "      <th>Paciente 26</th>\n",
              "      <td>Sim</td>\n",
              "      <td>Não</td>\n",
              "      <td>Não</td>\n",
              "      <td>Não</td>\n",
              "      <td>Não</td>\n",
              "      <td>Não</td>\n",
              "      <td>Sim</td>\n",
              "      <td>Não</td>\n",
              "    </tr>\n",
              "    <tr>\n",
              "      <th>Paciente 27</th>\n",
              "      <td>Não</td>\n",
              "      <td>Não</td>\n",
              "      <td>Não</td>\n",
              "      <td>Não</td>\n",
              "      <td>Não</td>\n",
              "      <td>Sim</td>\n",
              "      <td>Sim</td>\n",
              "      <td>Não</td>\n",
              "    </tr>\n",
              "    <tr>\n",
              "      <th>Paciente 28</th>\n",
              "      <td>Não</td>\n",
              "      <td>Não</td>\n",
              "      <td>Não</td>\n",
              "      <td>Não</td>\n",
              "      <td>Sim</td>\n",
              "      <td>Sim</td>\n",
              "      <td>Não</td>\n",
              "      <td>Não</td>\n",
              "    </tr>\n",
              "    <tr>\n",
              "      <th>Paciente 29</th>\n",
              "      <td>Não</td>\n",
              "      <td>Não</td>\n",
              "      <td>Não</td>\n",
              "      <td>Não</td>\n",
              "      <td>Não</td>\n",
              "      <td>Sim</td>\n",
              "      <td>Não</td>\n",
              "      <td>Não</td>\n",
              "    </tr>\n",
              "    <tr>\n",
              "      <th>Paciente 30</th>\n",
              "      <td>Não</td>\n",
              "      <td>Não</td>\n",
              "      <td>Não</td>\n",
              "      <td>Não</td>\n",
              "      <td>Sim</td>\n",
              "      <td>Sim</td>\n",
              "      <td>Não</td>\n",
              "      <td>Não</td>\n",
              "    </tr>\n",
              "  </tbody>\n",
              "</table>\n",
              "</div>"
            ],
            "text/plain": [
              "            A1 - pressão arterial alta A2 - imc alto  \\\n",
              "Paciente 21                        Sim           Sim   \n",
              "Paciente 22                        Não           Não   \n",
              "Paciente 23                        Não           Não   \n",
              "Paciente 24                        Sim           Sim   \n",
              "Paciente 25                        Sim           Sim   \n",
              "Paciente 26                        Sim           Não   \n",
              "Paciente 27                        Não           Não   \n",
              "Paciente 28                        Não           Não   \n",
              "Paciente 29                        Não           Não   \n",
              "Paciente 30                        Não           Não   \n",
              "\n",
              "            A3 - histórico cardíaco ruim A4 - fumante  \\\n",
              "Paciente 21                          Sim          Sim   \n",
              "Paciente 22                          Não          Sim   \n",
              "Paciente 23                          Sim          Sim   \n",
              "Paciente 24                          Sim          Sim   \n",
              "Paciente 25                          Sim          Não   \n",
              "Paciente 26                          Não          Não   \n",
              "Paciente 27                          Não          Não   \n",
              "Paciente 28                          Não          Não   \n",
              "Paciente 29                          Não          Não   \n",
              "Paciente 30                          Não          Não   \n",
              "\n",
              "            A5 - Pratica menos que 150mn de atividade física  \\\n",
              "Paciente 21                                              Não   \n",
              "Paciente 22                                              Não   \n",
              "Paciente 23                                              Sim   \n",
              "Paciente 24                                              Sim   \n",
              "Paciente 25                                              Sim   \n",
              "Paciente 26                                              Não   \n",
              "Paciente 27                                              Não   \n",
              "Paciente 28                                              Sim   \n",
              "Paciente 29                                              Não   \n",
              "Paciente 30                                              Sim   \n",
              "\n",
              "            A6 - Dieta inadequada A7 - Consumo excessivo de álcool Rótulo  \n",
              "Paciente 21                   Sim                              Sim    Sim  \n",
              "Paciente 22                   Sim                              Sim    Sim  \n",
              "Paciente 23                   Não                              Sim    Sim  \n",
              "Paciente 24                   Sim                              Não    Sim  \n",
              "Paciente 25                   Sim                              Não    Sim  \n",
              "Paciente 26                   Não                              Sim    Não  \n",
              "Paciente 27                   Sim                              Sim    Não  \n",
              "Paciente 28                   Sim                              Não    Não  \n",
              "Paciente 29                   Sim                              Não    Não  \n",
              "Paciente 30                   Sim                              Não    Não  "
            ]
          },
          "execution_count": 18,
          "metadata": {},
          "output_type": "execute_result"
        }
      ],
      "source": [
        "df_test"
      ]
    },
    {
      "cell_type": "markdown",
      "metadata": {
        "id": "Rwl70CNQM6og"
      },
      "source": [
        "## Calculando a acurácia do modelo preditivo\n",
        "\n",
        "* Agora vamos percorrer a lista 'diferencas' para verificar a quantidade de $0s$.\n",
        "* Depois, divideremos essa quantidade pelo total de casos de teste.\n",
        "    * Dessa forma, iremos obter a acurácia do modelo preditivo."
      ]
    },
    {
      "cell_type": "code",
      "execution_count": 19,
      "metadata": {
        "colab": {
          "base_uri": "https://localhost:8080/"
        },
        "id": "ECSMEi-dM6og",
        "outputId": "5f7d5c04-0444-44ac-e86e-0d0fa0330c50"
      },
      "outputs": [
        {
          "data": {
            "text/plain": [
              "0.9"
            ]
          },
          "execution_count": 19,
          "metadata": {},
          "output_type": "execute_result"
        }
      ],
      "source": [
        "total_acertos = diferencas[diferencas==0].size\n",
        "total_teste = y_test.size\n",
        "\n",
        "acuracia = total_acertos/total_teste\n",
        "acuracia"
      ]
    },
    {
      "cell_type": "markdown",
      "metadata": {
        "id": "OIufiAgI3R7p"
      },
      "source": [
        "## Random Forest\n",
        "\n",
        "Random Forest é um algoritmo de aprendizado de máquina que pertence à família dos métodos ensemble. Ele é utilizado tanto para tarefas de classificação quanto para regressão. A ideia principal do Random Forest é combinar as previsões de múltiplas árvores de decisão (daí o nome \"floresta\") para melhorar a precisão do modelo e evitar o problema de overfitting, que ocorre quando um modelo é muito complexo e se ajusta excessivamente aos dados de treinamento."
      ]
    },
    {
      "cell_type": "code",
      "execution_count": 20,
      "metadata": {
        "colab": {
          "base_uri": "https://localhost:8080/",
          "height": 74
        },
        "id": "B8GIJ7mi3dBr",
        "outputId": "0957f98e-eaa5-483b-96d1-1b332f316e86"
      },
      "outputs": [
        {
          "data": {
            "text/html": [
              "<style>#sk-container-id-2 {color: black;}#sk-container-id-2 pre{padding: 0;}#sk-container-id-2 div.sk-toggleable {background-color: white;}#sk-container-id-2 label.sk-toggleable__label {cursor: pointer;display: block;width: 100%;margin-bottom: 0;padding: 0.3em;box-sizing: border-box;text-align: center;}#sk-container-id-2 label.sk-toggleable__label-arrow:before {content: \"▸\";float: left;margin-right: 0.25em;color: #696969;}#sk-container-id-2 label.sk-toggleable__label-arrow:hover:before {color: black;}#sk-container-id-2 div.sk-estimator:hover label.sk-toggleable__label-arrow:before {color: black;}#sk-container-id-2 div.sk-toggleable__content {max-height: 0;max-width: 0;overflow: hidden;text-align: left;background-color: #f0f8ff;}#sk-container-id-2 div.sk-toggleable__content pre {margin: 0.2em;color: black;border-radius: 0.25em;background-color: #f0f8ff;}#sk-container-id-2 input.sk-toggleable__control:checked~div.sk-toggleable__content {max-height: 200px;max-width: 100%;overflow: auto;}#sk-container-id-2 input.sk-toggleable__control:checked~label.sk-toggleable__label-arrow:before {content: \"▾\";}#sk-container-id-2 div.sk-estimator input.sk-toggleable__control:checked~label.sk-toggleable__label {background-color: #d4ebff;}#sk-container-id-2 div.sk-label input.sk-toggleable__control:checked~label.sk-toggleable__label {background-color: #d4ebff;}#sk-container-id-2 input.sk-hidden--visually {border: 0;clip: rect(1px 1px 1px 1px);clip: rect(1px, 1px, 1px, 1px);height: 1px;margin: -1px;overflow: hidden;padding: 0;position: absolute;width: 1px;}#sk-container-id-2 div.sk-estimator {font-family: monospace;background-color: #f0f8ff;border: 1px dotted black;border-radius: 0.25em;box-sizing: border-box;margin-bottom: 0.5em;}#sk-container-id-2 div.sk-estimator:hover {background-color: #d4ebff;}#sk-container-id-2 div.sk-parallel-item::after {content: \"\";width: 100%;border-bottom: 1px solid gray;flex-grow: 1;}#sk-container-id-2 div.sk-label:hover label.sk-toggleable__label {background-color: #d4ebff;}#sk-container-id-2 div.sk-serial::before {content: \"\";position: absolute;border-left: 1px solid gray;box-sizing: border-box;top: 0;bottom: 0;left: 50%;z-index: 0;}#sk-container-id-2 div.sk-serial {display: flex;flex-direction: column;align-items: center;background-color: white;padding-right: 0.2em;padding-left: 0.2em;position: relative;}#sk-container-id-2 div.sk-item {position: relative;z-index: 1;}#sk-container-id-2 div.sk-parallel {display: flex;align-items: stretch;justify-content: center;background-color: white;position: relative;}#sk-container-id-2 div.sk-item::before, #sk-container-id-2 div.sk-parallel-item::before {content: \"\";position: absolute;border-left: 1px solid gray;box-sizing: border-box;top: 0;bottom: 0;left: 50%;z-index: -1;}#sk-container-id-2 div.sk-parallel-item {display: flex;flex-direction: column;z-index: 1;position: relative;background-color: white;}#sk-container-id-2 div.sk-parallel-item:first-child::after {align-self: flex-end;width: 50%;}#sk-container-id-2 div.sk-parallel-item:last-child::after {align-self: flex-start;width: 50%;}#sk-container-id-2 div.sk-parallel-item:only-child::after {width: 0;}#sk-container-id-2 div.sk-dashed-wrapped {border: 1px dashed gray;margin: 0 0.4em 0.5em 0.4em;box-sizing: border-box;padding-bottom: 0.4em;background-color: white;}#sk-container-id-2 div.sk-label label {font-family: monospace;font-weight: bold;display: inline-block;line-height: 1.2em;}#sk-container-id-2 div.sk-label-container {text-align: center;}#sk-container-id-2 div.sk-container {/* jupyter's `normalize.less` sets `[hidden] { display: none; }` but bootstrap.min.css set `[hidden] { display: none !important; }` so we also need the `!important` here to be able to override the default hidden behavior on the sphinx rendered scikit-learn.org. See: https://github.com/scikit-learn/scikit-learn/issues/21755 */display: inline-block !important;position: relative;}#sk-container-id-2 div.sk-text-repr-fallback {display: none;}</style><div id=\"sk-container-id-2\" class=\"sk-top-container\"><div class=\"sk-text-repr-fallback\"><pre>RandomForestClassifier(random_state=42)</pre><b>In a Jupyter environment, please rerun this cell to show the HTML representation or trust the notebook. <br />On GitHub, the HTML representation is unable to render, please try loading this page with nbviewer.org.</b></div><div class=\"sk-container\" hidden><div class=\"sk-item\"><div class=\"sk-estimator sk-toggleable\"><input class=\"sk-toggleable__control sk-hidden--visually\" id=\"sk-estimator-id-2\" type=\"checkbox\" checked><label for=\"sk-estimator-id-2\" class=\"sk-toggleable__label sk-toggleable__label-arrow\">RandomForestClassifier</label><div class=\"sk-toggleable__content\"><pre>RandomForestClassifier(random_state=42)</pre></div></div></div></div></div>"
            ],
            "text/plain": [
              "RandomForestClassifier(random_state=42)"
            ]
          },
          "execution_count": 20,
          "metadata": {},
          "output_type": "execute_result"
        }
      ],
      "source": [
        "from sklearn.ensemble import RandomForestClassifier\n",
        "\n",
        "clf = RandomForestClassifier(random_state=42)\n",
        "clf.fit(X_train, y_train)"
      ]
    },
    {
      "cell_type": "code",
      "execution_count": 21,
      "metadata": {
        "colab": {
          "base_uri": "https://localhost:8080/"
        },
        "id": "aOZyQJ5g3mMq",
        "outputId": "b2cc3102-15be-40fe-c07a-60562aff61a4"
      },
      "outputs": [
        {
          "data": {
            "text/plain": [
              "array([1, 1, 1, 1, 1, 0, 1, 1, 1, 1])"
            ]
          },
          "execution_count": 21,
          "metadata": {},
          "output_type": "execute_result"
        }
      ],
      "source": [
        "resp = clf.predict(X_test)\n",
        "resp"
      ]
    },
    {
      "cell_type": "code",
      "execution_count": 22,
      "metadata": {
        "colab": {
          "base_uri": "https://localhost:8080/"
        },
        "id": "kC_VRhfZ3pOb",
        "outputId": "100232a3-f0f2-465e-d9ba-c11a6c9ef7fd"
      },
      "outputs": [
        {
          "data": {
            "text/plain": [
              "0.6"
            ]
          },
          "execution_count": 22,
          "metadata": {},
          "output_type": "execute_result"
        }
      ],
      "source": [
        "from sklearn.metrics import accuracy_score\n",
        "\n",
        "accuracy_score(y_test, resp)"
      ]
    },
    {
      "cell_type": "markdown",
      "metadata": {
        "id": "lcDweoqfM6og"
      },
      "source": [
        "## Analisando as probabilidades das estimativas\n",
        "\n",
        "* Abaixo iremos analisar a confiança da estimativa ao declarar se um dado paciente tem **risco de doença cardíaca** ou não.\n",
        "* Na primeira coluna temos a probabilidade da classe ser $0$ e na segunda coluna da classe ser $1$."
      ]
    },
    {
      "cell_type": "code",
      "execution_count": 23,
      "metadata": {
        "colab": {
          "base_uri": "https://localhost:8080/"
        },
        "id": "w3OOuCh_M6oh",
        "outputId": "c5a80aba-ca5b-4e1b-db32-0b47213db60f"
      },
      "outputs": [
        {
          "data": {
            "text/plain": [
              "array([[0.  , 1.  ],\n",
              "       [0.06, 0.94],\n",
              "       [0.15, 0.85],\n",
              "       [0.04, 0.96],\n",
              "       [0.1 , 0.9 ],\n",
              "       [0.74, 0.26],\n",
              "       [0.41, 0.59],\n",
              "       [0.43, 0.57],\n",
              "       [0.37, 0.63],\n",
              "       [0.43, 0.57]])"
            ]
          },
          "execution_count": 23,
          "metadata": {},
          "output_type": "execute_result"
        }
      ],
      "source": [
        "resp_prob = clf.predict_proba(X_test)\n",
        "resp_prob"
      ]
    },
    {
      "cell_type": "markdown",
      "metadata": {
        "id": "jUGBv-pS5RW5"
      },
      "source": [
        "## Ajustando o limiar de decisão"
      ]
    },
    {
      "cell_type": "code",
      "execution_count": 24,
      "metadata": {
        "colab": {
          "base_uri": "https://localhost:8080/"
        },
        "id": "t7CfYSo65oip",
        "outputId": "432a98fb-3e5d-4a8e-8434-85972f2d44e4"
      },
      "outputs": [
        {
          "data": {
            "text/plain": [
              "array([1, 1, 1, 1, 1, 0, 1, 1, 1, 1])"
            ]
          },
          "execution_count": 24,
          "metadata": {},
          "output_type": "execute_result"
        }
      ],
      "source": [
        "limiar = 0.4\n",
        "\n",
        "resp_binaria = (resp_prob[:,1] > limiar).astype(int)\n",
        "resp_binaria"
      ]
    },
    {
      "cell_type": "code",
      "execution_count": 25,
      "metadata": {
        "colab": {
          "base_uri": "https://localhost:8080/"
        },
        "id": "sGyhL-2s538j",
        "outputId": "19262c37-0e25-47cf-8511-48e1f339d508"
      },
      "outputs": [
        {
          "data": {
            "text/plain": [
              "array([1, 1, 1, 1, 1, 0, 0, 0, 0, 0])"
            ]
          },
          "execution_count": 25,
          "metadata": {},
          "output_type": "execute_result"
        }
      ],
      "source": [
        "y_test"
      ]
    },
    {
      "cell_type": "markdown",
      "metadata": {
        "id": "Hi7CRaK96RrF"
      },
      "source": [
        "## Criando uma interface gráfica para o nosso modelo"
      ]
    },
    {
      "cell_type": "markdown",
      "metadata": {
        "id": "QZizwBb27Dwt"
      },
      "source": [
        "Para criar nossa interface gráfica, vamos utilizar a biblioteca [gradio](https://www.gradio.app/). Essa biblioteca nos ajudará a construir demos de nossas aplicações em uma interface web."
      ]
    },
    {
      "cell_type": "code",
      "execution_count": 38,
      "metadata": {
        "colab": {
          "base_uri": "https://localhost:8080/"
        },
        "id": "YR6OqEOR6wrS",
        "outputId": "fa5ce931-0a3d-4e15-e12c-7b1d3ffd9b29"
      },
      "outputs": [
        {
          "name": "stdout",
          "output_type": "stream",
          "text": [
            "Requirement already satisfied: gradio in c:\\users\\facps\\anaconda3\\lib\\site-packages (4.37.1)\n",
            "Requirement already satisfied: aiofiles<24.0,>=22.0 in c:\\users\\facps\\anaconda3\\lib\\site-packages (from gradio) (22.1.0)\n",
            "Requirement already satisfied: altair<6.0,>=4.2.0 in c:\\users\\facps\\anaconda3\\lib\\site-packages (from gradio) (5.3.0)\n",
            "Requirement already satisfied: fastapi in c:\\users\\facps\\anaconda3\\lib\\site-packages (from gradio) (0.111.0)\n",
            "Requirement already satisfied: ffmpy in c:\\users\\facps\\anaconda3\\lib\\site-packages (from gradio) (0.3.2)\n",
            "Requirement already satisfied: gradio-client==1.0.2 in c:\\users\\facps\\anaconda3\\lib\\site-packages (from gradio) (1.0.2)\n",
            "Requirement already satisfied: httpx>=0.24.1 in c:\\users\\facps\\anaconda3\\lib\\site-packages (from gradio) (0.26.0)\n",
            "Requirement already satisfied: huggingface-hub>=0.19.3 in c:\\users\\facps\\anaconda3\\lib\\site-packages (from gradio) (0.23.4)\n",
            "Requirement already satisfied: importlib-resources<7.0,>=1.3 in c:\\users\\facps\\anaconda3\\lib\\site-packages (from gradio) (6.4.0)\n",
            "Requirement already satisfied: jinja2<4.0 in c:\\users\\facps\\anaconda3\\lib\\site-packages (from gradio) (3.1.2)\n",
            "Requirement already satisfied: markupsafe~=2.0 in c:\\users\\facps\\anaconda3\\lib\\site-packages (from gradio) (2.1.1)\n",
            "Requirement already satisfied: matplotlib~=3.0 in c:\\users\\facps\\anaconda3\\lib\\site-packages (from gradio) (3.7.2)\n",
            "Requirement already satisfied: numpy<3.0,>=1.0 in c:\\users\\facps\\anaconda3\\lib\\site-packages (from gradio) (1.24.3)\n",
            "Requirement already satisfied: orjson~=3.0 in c:\\users\\facps\\anaconda3\\lib\\site-packages (from gradio) (3.10.5)\n",
            "Requirement already satisfied: packaging in c:\\users\\facps\\appdata\\roaming\\python\\python311\\site-packages (from gradio) (24.1)\n",
            "Requirement already satisfied: pandas<3.0,>=1.0 in c:\\users\\facps\\anaconda3\\lib\\site-packages (from gradio) (2.0.3)\n",
            "Requirement already satisfied: pillow<11.0,>=8.0 in c:\\users\\facps\\anaconda3\\lib\\site-packages (from gradio) (10.2.0)\n",
            "Requirement already satisfied: pydantic>=2.0 in c:\\users\\facps\\anaconda3\\lib\\site-packages (from gradio) (2.7.4)\n",
            "Requirement already satisfied: pydub in c:\\users\\facps\\anaconda3\\lib\\site-packages (from gradio) (0.25.1)\n",
            "Requirement already satisfied: python-multipart>=0.0.9 in c:\\users\\facps\\anaconda3\\lib\\site-packages (from gradio) (0.0.9)\n",
            "Requirement already satisfied: pyyaml<7.0,>=5.0 in c:\\users\\facps\\anaconda3\\lib\\site-packages (from gradio) (6.0)\n",
            "Requirement already satisfied: ruff>=0.2.2 in c:\\users\\facps\\anaconda3\\lib\\site-packages (from gradio) (0.4.10)\n",
            "Requirement already satisfied: semantic-version~=2.0 in c:\\users\\facps\\anaconda3\\lib\\site-packages (from gradio) (2.10.0)\n",
            "Requirement already satisfied: tomlkit==0.12.0 in c:\\users\\facps\\anaconda3\\lib\\site-packages (from gradio) (0.12.0)\n",
            "Requirement already satisfied: typer<1.0,>=0.12 in c:\\users\\facps\\anaconda3\\lib\\site-packages (from gradio) (0.12.3)\n",
            "Requirement already satisfied: typing-extensions~=4.0 in c:\\users\\facps\\appdata\\roaming\\python\\python311\\site-packages (from gradio) (4.12.2)\n",
            "Requirement already satisfied: urllib3~=2.0 in c:\\users\\facps\\anaconda3\\lib\\site-packages (from gradio) (2.2.2)\n",
            "Requirement already satisfied: uvicorn>=0.14.0 in c:\\users\\facps\\anaconda3\\lib\\site-packages (from gradio) (0.30.1)\n",
            "Requirement already satisfied: fsspec in c:\\users\\facps\\anaconda3\\lib\\site-packages (from gradio-client==1.0.2->gradio) (2024.6.0)\n",
            "Requirement already satisfied: websockets<12.0,>=10.0 in c:\\users\\facps\\anaconda3\\lib\\site-packages (from gradio-client==1.0.2->gradio) (11.0.3)\n",
            "Requirement already satisfied: jsonschema>=3.0 in c:\\users\\facps\\anaconda3\\lib\\site-packages (from altair<6.0,>=4.2.0->gradio) (4.19.2)\n",
            "Requirement already satisfied: toolz in c:\\users\\facps\\anaconda3\\lib\\site-packages (from altair<6.0,>=4.2.0->gradio) (0.12.0)\n",
            "Requirement already satisfied: anyio in c:\\users\\facps\\anaconda3\\lib\\site-packages (from httpx>=0.24.1->gradio) (3.5.0)\n",
            "Requirement already satisfied: certifi in c:\\users\\facps\\anaconda3\\lib\\site-packages (from httpx>=0.24.1->gradio) (2024.6.2)\n",
            "Requirement already satisfied: httpcore==1.* in c:\\users\\facps\\anaconda3\\lib\\site-packages (from httpx>=0.24.1->gradio) (1.0.2)\n",
            "Requirement already satisfied: idna in c:\\users\\facps\\anaconda3\\lib\\site-packages (from httpx>=0.24.1->gradio) (3.4)\n",
            "Requirement already satisfied: sniffio in c:\\users\\facps\\anaconda3\\lib\\site-packages (from httpx>=0.24.1->gradio) (1.2.0)\n",
            "Requirement already satisfied: h11<0.15,>=0.13 in c:\\users\\facps\\anaconda3\\lib\\site-packages (from httpcore==1.*->httpx>=0.24.1->gradio) (0.14.0)\n",
            "Requirement already satisfied: filelock in c:\\users\\facps\\anaconda3\\lib\\site-packages (from huggingface-hub>=0.19.3->gradio) (3.9.0)\n",
            "Requirement already satisfied: requests in c:\\users\\facps\\anaconda3\\lib\\site-packages (from huggingface-hub>=0.19.3->gradio) (2.31.0)\n",
            "Requirement already satisfied: tqdm>=4.42.1 in c:\\users\\facps\\anaconda3\\lib\\site-packages (from huggingface-hub>=0.19.3->gradio) (4.65.0)\n",
            "Requirement already satisfied: contourpy>=1.0.1 in c:\\users\\facps\\anaconda3\\lib\\site-packages (from matplotlib~=3.0->gradio) (1.0.5)\n",
            "Requirement already satisfied: cycler>=0.10 in c:\\users\\facps\\anaconda3\\lib\\site-packages (from matplotlib~=3.0->gradio) (0.11.0)\n",
            "Requirement already satisfied: fonttools>=4.22.0 in c:\\users\\facps\\anaconda3\\lib\\site-packages (from matplotlib~=3.0->gradio) (4.25.0)\n",
            "Requirement already satisfied: kiwisolver>=1.0.1 in c:\\users\\facps\\anaconda3\\lib\\site-packages (from matplotlib~=3.0->gradio) (1.4.4)\n",
            "Requirement already satisfied: pyparsing<3.1,>=2.3.1 in c:\\users\\facps\\anaconda3\\lib\\site-packages (from matplotlib~=3.0->gradio) (3.0.9)\n",
            "Requirement already satisfied: python-dateutil>=2.7 in c:\\users\\facps\\appdata\\roaming\\python\\python311\\site-packages (from matplotlib~=3.0->gradio) (2.9.0.post0)\n",
            "Requirement already satisfied: pytz>=2020.1 in c:\\users\\facps\\anaconda3\\lib\\site-packages (from pandas<3.0,>=1.0->gradio) (2023.3.post1)\n",
            "Requirement already satisfied: tzdata>=2022.1 in c:\\users\\facps\\anaconda3\\lib\\site-packages (from pandas<3.0,>=1.0->gradio) (2023.3)\n",
            "Requirement already satisfied: annotated-types>=0.4.0 in c:\\users\\facps\\anaconda3\\lib\\site-packages (from pydantic>=2.0->gradio) (0.7.0)\n",
            "Requirement already satisfied: pydantic-core==2.18.4 in c:\\users\\facps\\anaconda3\\lib\\site-packages (from pydantic>=2.0->gradio) (2.18.4)\n",
            "Requirement already satisfied: click>=8.0.0 in c:\\users\\facps\\anaconda3\\lib\\site-packages (from typer<1.0,>=0.12->gradio) (8.0.4)\n",
            "Requirement already satisfied: shellingham>=1.3.0 in c:\\users\\facps\\anaconda3\\lib\\site-packages (from typer<1.0,>=0.12->gradio) (1.5.4)\n",
            "Requirement already satisfied: rich>=10.11.0 in c:\\users\\facps\\anaconda3\\lib\\site-packages (from typer<1.0,>=0.12->gradio) (13.7.1)\n",
            "Requirement already satisfied: starlette<0.38.0,>=0.37.2 in c:\\users\\facps\\anaconda3\\lib\\site-packages (from fastapi->gradio) (0.37.2)\n",
            "Requirement already satisfied: fastapi-cli>=0.0.2 in c:\\users\\facps\\anaconda3\\lib\\site-packages (from fastapi->gradio) (0.0.4)\n",
            "Requirement already satisfied: ujson!=4.0.2,!=4.1.0,!=4.2.0,!=4.3.0,!=5.0.0,!=5.1.0,>=4.0.1 in c:\\users\\facps\\anaconda3\\lib\\site-packages (from fastapi->gradio) (5.4.0)\n",
            "Requirement already satisfied: email_validator>=2.0.0 in c:\\users\\facps\\anaconda3\\lib\\site-packages (from fastapi->gradio) (2.2.0)\n",
            "Requirement already satisfied: colorama in c:\\users\\facps\\appdata\\roaming\\python\\python311\\site-packages (from click>=8.0.0->typer<1.0,>=0.12->gradio) (0.4.6)\n",
            "Requirement already satisfied: dnspython>=2.0.0 in c:\\users\\facps\\anaconda3\\lib\\site-packages (from email_validator>=2.0.0->fastapi->gradio) (2.6.1)\n",
            "Requirement already satisfied: attrs>=22.2.0 in c:\\users\\facps\\anaconda3\\lib\\site-packages (from jsonschema>=3.0->altair<6.0,>=4.2.0->gradio) (23.1.0)\n",
            "Requirement already satisfied: jsonschema-specifications>=2023.03.6 in c:\\users\\facps\\anaconda3\\lib\\site-packages (from jsonschema>=3.0->altair<6.0,>=4.2.0->gradio) (2023.7.1)\n",
            "Requirement already satisfied: referencing>=0.28.4 in c:\\users\\facps\\anaconda3\\lib\\site-packages (from jsonschema>=3.0->altair<6.0,>=4.2.0->gradio) (0.30.2)\n",
            "Requirement already satisfied: rpds-py>=0.7.1 in c:\\users\\facps\\anaconda3\\lib\\site-packages (from jsonschema>=3.0->altair<6.0,>=4.2.0->gradio) (0.10.6)\n",
            "Requirement already satisfied: six>=1.5 in c:\\users\\facps\\appdata\\roaming\\python\\python311\\site-packages (from python-dateutil>=2.7->matplotlib~=3.0->gradio) (1.16.0)\n",
            "Requirement already satisfied: markdown-it-py>=2.2.0 in c:\\users\\facps\\anaconda3\\lib\\site-packages (from rich>=10.11.0->typer<1.0,>=0.12->gradio) (2.2.0)\n",
            "Requirement already satisfied: pygments<3.0.0,>=2.13.0 in c:\\users\\facps\\appdata\\roaming\\python\\python311\\site-packages (from rich>=10.11.0->typer<1.0,>=0.12->gradio) (2.18.0)\n",
            "Requirement already satisfied: httptools>=0.5.0 in c:\\users\\facps\\anaconda3\\lib\\site-packages (from uvicorn>=0.14.0->gradio) (0.6.1)\n",
            "Requirement already satisfied: python-dotenv>=0.13 in c:\\users\\facps\\anaconda3\\lib\\site-packages (from uvicorn>=0.14.0->gradio) (0.21.0)\n",
            "Requirement already satisfied: watchfiles>=0.13 in c:\\users\\facps\\anaconda3\\lib\\site-packages (from uvicorn>=0.14.0->gradio) (0.22.0)\n",
            "Requirement already satisfied: charset-normalizer<4,>=2 in c:\\users\\facps\\anaconda3\\lib\\site-packages (from requests->huggingface-hub>=0.19.3->gradio) (2.0.4)\n",
            "Requirement already satisfied: mdurl~=0.1 in c:\\users\\facps\\anaconda3\\lib\\site-packages (from markdown-it-py>=2.2.0->rich>=10.11.0->typer<1.0,>=0.12->gradio) (0.1.0)\n",
            "Note: you may need to restart the kernel to use updated packages.\n"
          ]
        }
      ],
      "source": [
        "%pip install gradio"
      ]
    },
    {
      "cell_type": "code",
      "execution_count": 39,
      "metadata": {
        "id": "HSROwgyX6y13"
      },
      "outputs": [],
      "source": [
        "import gradio as gr"
      ]
    },
    {
      "cell_type": "markdown",
      "metadata": {
        "id": "eQbrvym3642z"
      },
      "source": [
        "##Relembrando nossos atributos(perguntas)\n",
        "* tem pressão arterial acima de 140/90 mmHg (**A1**)?\n",
        "* tem índice de massa corporal (IMC) acima de 30 (**A2**)?\n",
        "* tem histórico familiar de doença cardíaca (**A3**)?\n",
        "* fuma atualmente (**A4**)?\n",
        "* pratica menos de 150 minutos de atividade física por semana (**A5**)?\n",
        "*Possui uma dieta inadequada(**A6**)?\n",
        "*consome excessivamente bebidas alcoólicas (**A7**)?"
      ]
    },
    {
      "cell_type": "code",
      "execution_count": 28,
      "metadata": {
        "id": "PDy4XOhdKOa7"
      },
      "outputs": [],
      "source": [
        "def make_prediction(pressao_arterial, imc, historico, fumante, pratica_menos_150mn, dieta_inadequada, consome_alcool):\n",
        "    if (pressao_arterial.lower() == \"sim\"):\n",
        "        pressao_arterial = 1\n",
        "    else:\n",
        "        pressao_arterial = 0\n",
        "    if (imc.lower() == \"sim\"):\n",
        "        imc = 1\n",
        "    else:\n",
        "        imc = 0\n",
        "\n",
        "    if (historico.lower() == \"sim\"):\n",
        "        historico = 1\n",
        "    else:\n",
        "        historico = 0\n",
        "\n",
        "    if (fumante.lower() == \"sim\"):\n",
        "        fumante = 1\n",
        "    else:\n",
        "        fumante = 0\n",
        "\n",
        "    if (pratica_menos_150mn.lower() == \"sim\"):\n",
        "        pratica_menos_150mn = 1\n",
        "    else:\n",
        "        ppratica_menos_150mn = 0\n",
        "\n",
        "    if (dieta_inadequada.lower() == \"sim\"):\n",
        "        dieta_inadequada = 1\n",
        "    else:\n",
        "        dieta_inadequada = 0\n",
        "\n",
        "    if (consome_alcool.lower() == \"sim\"):\n",
        "        consome_alcool = 1\n",
        "    else:\n",
        "        consome_alcool = 0\n",
        "\n",
        "    preds = clf.predict([[pressao_arterial, imc, historico, fumante, pratica_menos_150mn, dieta_inadequada, consome_alcool]])\n",
        "    if preds[0] == 1:\n",
        "            return \"Você possui risco de uma doença cardíaca!\"\n",
        "    return \"Atualmente você NÃO possui risco de uma doença cardíaca!\"\n",
        "\n",
        "\n",
        "pressao_arterial = gr.Radio(['sim', 'não'], info = \"Você tem pressão arterial acima de 140/90 mmHg?\")\n",
        "imc = gr.Radio(['sim', 'não'], info = \"Você tem índice de massa corporal (IMC) acima de 30?\")\n",
        "historico = gr.Radio(['sim', 'não'], info = \"Você tem histórico familiar de doença cardíaca?\")\n",
        "fumante = gr.Radio(['sim', 'não'], info = \"Você fuma atualmente?\")\n",
        "pratica_menos_150mn = gr.Radio(['sim', 'não'], info = \"Você pratica menos de 150 minutos de atividade física por semana?\")\n",
        "dieta_inadequada = gr.Radio(['sim', 'não'], info = \"Você possui uma dieta inadequada?\")\n",
        "consome_alcool = gr.Radio(['sim', 'não'], info = \"Você consome excessivamente bebidas alcoólicas?\")\n",
        "\n",
        "output = gr.Textbox(label = 'Resultado Modelo Preditivo')"
      ]
    },
    {
      "cell_type": "code",
      "execution_count": 29,
      "metadata": {
        "colab": {
          "base_uri": "https://localhost:8080/",
          "height": 650
        },
        "id": "-3O4xLT76UaE",
        "outputId": "e890add4-ed82-4a4d-949c-7957b01b9489"
      },
      "outputs": [
        {
          "name": "stdout",
          "output_type": "stream",
          "text": [
            "Running on local URL:  http://127.0.0.1:7860\n",
            "\n",
            "To create a public link, set `share=True` in `launch()`.\n"
          ]
        },
        {
          "data": {
            "text/html": [
              "<div><iframe src=\"http://127.0.0.1:7860/\" width=\"100%\" height=\"500\" allow=\"autoplay; camera; microphone; clipboard-read; clipboard-write;\" frameborder=\"0\" allowfullscreen></iframe></div>"
            ],
            "text/plain": [
              "<IPython.core.display.HTML object>"
            ]
          },
          "metadata": {},
          "output_type": "display_data"
        },
        {
          "data": {
            "text/plain": []
          },
          "execution_count": 29,
          "metadata": {},
          "output_type": "execute_result"
        }
      ],
      "source": [
        "app = gr.Interface(fn = make_prediction, inputs=[pressao_arterial, imc, historico, fumante, pratica_menos_150mn, dieta_inadequada, consome_alcool], outputs=output)\n",
        "app.launch()"
      ]
    },
    {
      "cell_type": "markdown",
      "metadata": {
        "id": "-_q6jXSOM6oh"
      },
      "source": [
        "## Usando ferramenta de previsõe no modelo preditivos"
      ]
    },
    {
      "cell_type": "markdown",
      "metadata": {
        "id": "BEJDDDsED-xT"
      },
      "source": [
        "## IA interpretativa\n",
        "\n",
        "### Definição\n",
        "\n",
        "* A Inteligência Artificial (IA) interpretativa, também conhecida como IA explicável, refere-se a métodos e técnicas que tornam os modelos de aprendizado de máquina mais transparentes e compreensíveis para os humanos.\n",
        "* À medida que os modelos de IA se tornam mais complexos e são utilizados em aplicações críticas, como saúde, a necessidade de entender como e por que esses modelos tomam decisões específicas se torna essencial.\n",
        "\n",
        "### A IA interpretativa visa:\n",
        "\n",
        "* Melhorar a confiança: Usuários e stakeholders podem confiar mais nas decisões do modelo se puderem entender como essas decisões são tomadas.\n",
        "* Identificar viés: A explicabilidade pode ajudar a identificar e mitigar vieses nos modelos.\n",
        "* Conformidade regulatória: Em muitos setores, há requisitos regulatórios para a explicação das decisões automatizadas.\n",
        "\n",
        "\n",
        "### Bibliotecas de IA interpretativa\n",
        "\n",
        "\n",
        "* SHAP (SHapley Additive exPlanations) é uma ferramenta poderosa para a explicação de previsões de modelos de aprendizado de máquina. Baseado nos valores de Shapley da teoria dos jogos cooperativos, o SHAP fornece uma maneira consistente e unificada de atribuir a importância de cada característica para uma previsão específica.\n",
        "\n",
        "### Características Principais do SHAP\n",
        "\n",
        "* Valores de Shapley: SHAP utiliza os valores de Shapley para atribuir a importância de cada característica. Esses valores representam a contribuição média de cada característica para a diferença entre a previsão do modelo e a previsão média.\n",
        "* Consistência: Uma das grandes vantagens do SHAP é a sua consistência. Se um modelo mudar de forma que a contribuição de uma característica aumente, o valor SHAP dessa característica também aumentará.\n",
        "* Local e Global: O SHAP pode ser usado para explicar tanto previsões individuais (explicabilidade local) quanto a importância global das características em todo o modelo.\n",
        "* Modelo-Agnóstico: SHAP pode ser aplicado a qualquer tipo de modelo de aprendizado de máquina, desde árvores de decisão até redes neurais profundas.\n",
        "\n",
        "### Como o SHAP Funciona?\n",
        "\n",
        "* Pré-processamento: Para cada previsão, o SHAP considera todas as possíveis combinações de características.\n",
        "* Cálculo dos Valores de Shapley: Ele calcula os valores de Shapley para cada característica, que representam a contribuição esperada dessa característica para a previsão, considerando todas as combinações possíveis.\n",
        "* Visualização: Os valores SHAP podem ser visualizados de várias maneiras, como gráficos de dispersão, gráficos de dependência, e gráficos de força, ajudando a entender a importância de cada característica e como elas interagem."
      ]
    },
    {
      "cell_type": "markdown",
      "metadata": {
        "id": "Cft5DckKFMkc"
      },
      "source": [
        "### Exemplo de uso do SHAP"
      ]
    },
    {
      "cell_type": "code",
      "execution_count": 40,
      "metadata": {
        "colab": {
          "base_uri": "https://localhost:8080/"
        },
        "id": "bhcsr9M6Fhas",
        "outputId": "5c406fb7-1590-449d-a460-5f3b8053d325"
      },
      "outputs": [
        {
          "name": "stdout",
          "output_type": "stream",
          "text": [
            "Requirement already satisfied: shap in c:\\users\\facps\\anaconda3\\lib\\site-packages (0.46.0)\n",
            "Requirement already satisfied: numpy in c:\\users\\facps\\anaconda3\\lib\\site-packages (from shap) (1.24.3)\n",
            "Requirement already satisfied: scipy in c:\\users\\facps\\anaconda3\\lib\\site-packages (from shap) (1.11.1)\n",
            "Requirement already satisfied: scikit-learn in c:\\users\\facps\\anaconda3\\lib\\site-packages (from shap) (1.3.0)\n",
            "Requirement already satisfied: pandas in c:\\users\\facps\\anaconda3\\lib\\site-packages (from shap) (2.0.3)\n",
            "Requirement already satisfied: tqdm>=4.27.0 in c:\\users\\facps\\anaconda3\\lib\\site-packages (from shap) (4.65.0)\n",
            "Requirement already satisfied: packaging>20.9 in c:\\users\\facps\\appdata\\roaming\\python\\python311\\site-packages (from shap) (24.1)\n",
            "Requirement already satisfied: slicer==0.0.8 in c:\\users\\facps\\anaconda3\\lib\\site-packages (from shap) (0.0.8)\n",
            "Requirement already satisfied: numba in c:\\users\\facps\\anaconda3\\lib\\site-packages (from shap) (0.57.1)\n",
            "Requirement already satisfied: cloudpickle in c:\\users\\facps\\anaconda3\\lib\\site-packages (from shap) (2.2.1)\n",
            "Requirement already satisfied: colorama in c:\\users\\facps\\appdata\\roaming\\python\\python311\\site-packages (from tqdm>=4.27.0->shap) (0.4.6)\n",
            "Requirement already satisfied: llvmlite<0.41,>=0.40.0dev0 in c:\\users\\facps\\anaconda3\\lib\\site-packages (from numba->shap) (0.40.0)\n",
            "Requirement already satisfied: python-dateutil>=2.8.2 in c:\\users\\facps\\appdata\\roaming\\python\\python311\\site-packages (from pandas->shap) (2.9.0.post0)\n",
            "Requirement already satisfied: pytz>=2020.1 in c:\\users\\facps\\anaconda3\\lib\\site-packages (from pandas->shap) (2023.3.post1)\n",
            "Requirement already satisfied: tzdata>=2022.1 in c:\\users\\facps\\anaconda3\\lib\\site-packages (from pandas->shap) (2023.3)\n",
            "Requirement already satisfied: joblib>=1.1.1 in c:\\users\\facps\\anaconda3\\lib\\site-packages (from scikit-learn->shap) (1.2.0)\n",
            "Requirement already satisfied: threadpoolctl>=2.0.0 in c:\\users\\facps\\anaconda3\\lib\\site-packages (from scikit-learn->shap) (2.2.0)\n",
            "Requirement already satisfied: six>=1.5 in c:\\users\\facps\\appdata\\roaming\\python\\python311\\site-packages (from python-dateutil>=2.8.2->pandas->shap) (1.16.0)\n",
            "Note: you may need to restart the kernel to use updated packages.\n"
          ]
        }
      ],
      "source": [
        "%pip install shap"
      ]
    },
    {
      "cell_type": "code",
      "execution_count": 41,
      "metadata": {
        "colab": {
          "base_uri": "https://localhost:8080/"
        },
        "id": "z3uDPm5QIAmX",
        "outputId": "b258611b-26d2-4df8-8f70-04e4bbd49812"
      },
      "outputs": [
        {
          "name": "stdout",
          "output_type": "stream",
          "text": [
            "0.46.0\n"
          ]
        },
        {
          "name": "stderr",
          "output_type": "stream",
          "text": [
            "c:\\Users\\facps\\anaconda3\\Lib\\site-packages\\shap\\plots\\_waterfall.py:315: UserWarning: Matplotlib is currently using agg, which is a non-GUI backend, so cannot show the figure.\n",
            "  plt.show()\n"
          ]
        }
      ],
      "source": [
        "from sklearn.ensemble import RandomForestClassifier\n",
        "from sklearn.datasets import load_breast_cancer\n",
        "from shap import TreeExplainer, Explanation\n",
        "from shap.plots import waterfall\n",
        "import matplotlib.pyplot as plt\n",
        "\n",
        "import shap\n",
        "print(shap.__version__)"
      ]
    },
    {
      "cell_type": "code",
      "execution_count": 32,
      "metadata": {
        "colab": {
          "base_uri": "https://localhost:8080/",
          "height": 440
        },
        "id": "iJjz_zSmIvTo",
        "outputId": "dd3be58b-4d56-45ae-ab3e-04b63d28b480"
      },
      "outputs": [
        {
          "data": {
            "image/png": "[encoded data removed]",
            "text/plain": [
              "<Figure size 800x500 with 3 Axes>"
            ]
          },
          "metadata": {},
          "output_type": "display_data"
        }
      ],
      "source": [
        "explainer = TreeExplainer(clf)\n",
        "sv = explainer(X_train)\n",
        "exp = Explanation(sv.values[:,:,1],\n",
        "                  sv.base_values[:,1],\n",
        "                  data=X_train,\n",
        "                  feature_names=df_train.drop('Rótulo', axis=1).columns)\n",
        "#INDICA O PACIENTE, INICIANDO EM 0.\n",
        "#COM INDICES NEGATIVOS OS VALORES INICIARAM DO ULTIMO.\n",
        "idx = 1\n",
        "waterfall(exp[idx])"
      ]
    },
    {
      "cell_type": "code",
      "execution_count": 33,
      "metadata": {
        "colab": {
          "base_uri": "https://localhost:8080/",
          "height": 472
        },
        "id": "Uhqu87ZZIhxo",
        "outputId": "c0dc14ef-7506-432a-bc04-4c1b6740d85f"
      },
      "outputs": [
        {
          "data": {
            "image/png": "[encoded data removed]",
            "text/plain": [
              "<Figure size 800x500 with 3 Axes>"
            ]
          },
          "metadata": {},
          "output_type": "display_data"
        }
      ],
      "source": [
        "idx = 5\n",
        "waterfall(exp[idx])"
      ]
    },
    {
      "cell_type": "markdown",
      "metadata": {
        "id": "tP2CvrhQAkm2"
      },
      "source": [
        "* Plotando o gráfico da última amostra"
      ]
    },
    {
      "cell_type": "code",
      "execution_count": 34,
      "metadata": {
        "colab": {
          "base_uri": "https://localhost:8080/",
          "height": 472
        },
        "id": "r6Mlm2M4I5J2",
        "outputId": "38db8072-e1cb-43fd-d7cf-ba0bd759ca24"
      },
      "outputs": [
        {
          "data": {
            "image/png": "[encoded data removed]",
            "text/plain": [
              "<Figure size 800x500 with 3 Axes>"
            ]
          },
          "metadata": {},
          "output_type": "display_data"
        }
      ],
      "source": [
        "idx = -1\n",
        "waterfall(exp[idx])"
      ]
    },
    {
      "cell_type": "markdown",
      "metadata": {
        "id": "NbqN4l4FlDcx"
      },
      "source": [
        "* Para gerar o gráfico waterfall no gradio, vamos adicionar uma linha ao final da nossa base de treinamento, conforme ilustrado a seguir:"
      ]
    },
    {
      "cell_type": "code",
      "execution_count": 35,
      "metadata": {
        "colab": {
          "base_uri": "https://localhost:8080/"
        },
        "id": "OCkygjJ5Ph5f",
        "outputId": "49af0e20-77f2-4c52-d4be-0b49d17ddc0d"
      },
      "outputs": [
        {
          "data": {
            "text/plain": [
              "array([[1, 1, 1, 1, 1, 1, 1],\n",
              "       [0, 0, 0, 0, 1, 0, 0],\n",
              "       [1, 1, 1, 1, 0, 1, 1],\n",
              "       [0, 1, 1, 1, 1, 1, 0],\n",
              "       [1, 1, 1, 0, 0, 1, 0],\n",
              "       [0, 0, 0, 1, 0, 0, 1],\n",
              "       [1, 0, 1, 1, 0, 0, 0],\n",
              "       [1, 1, 1, 0, 0, 1, 0],\n",
              "       [1, 0, 0, 0, 0, 0, 0],\n",
              "       [1, 1, 1, 1, 0, 1, 0],\n",
              "       [0, 0, 0, 0, 0, 0, 0],\n",
              "       [0, 1, 0, 0, 0, 1, 0],\n",
              "       [0, 1, 1, 0, 0, 0, 0],\n",
              "       [0, 1, 0, 1, 0, 0, 1],\n",
              "       [0, 0, 1, 0, 0, 1, 0],\n",
              "       [0, 0, 1, 0, 0, 0, 0],\n",
              "       [1, 1, 0, 0, 1, 1, 0],\n",
              "       [0, 0, 1, 1, 0, 0, 1],\n",
              "       [0, 0, 0, 0, 0, 0, 1],\n",
              "       [0, 0, 1, 0, 1, 0, 0],\n",
              "       [1, 1, 1, 0, 0, 0, 0]])"
            ]
          },
          "execution_count": 35,
          "metadata": {},
          "output_type": "execute_result"
        }
      ],
      "source": [
        "X_train_expandido = np.vstack([X_train, np.array([[1, 1, 1, 0, 0, 0, 0]])])\n",
        "X_train_expandido"
      ]
    },
    {
      "cell_type": "code",
      "execution_count": 36,
      "metadata": {
        "id": "iCVG4iAJKXpB"
      },
      "outputs": [],
      "source": [
        "def make_prediction(pressao_arterial, imc, historico, fumante, pratica_menos_150mn, dieta_inadequada, consome_alcool):\n",
        "    if (pressao_arterial.lower() == \"sim\"):\n",
        "        pressao_arterial = 1\n",
        "    else:\n",
        "        pressao_arterial = 0\n",
        "    if (imc.lower() == \"sim\"):\n",
        "        imc = 1\n",
        "    else:\n",
        "        imc = 0\n",
        "\n",
        "    if (historico.lower() == \"sim\"):\n",
        "        historico = 1\n",
        "    else:\n",
        "        historico = 0\n",
        "\n",
        "    if (fumante.lower() == \"sim\"):\n",
        "        fumante = 1\n",
        "    else:\n",
        "        fumante = 0\n",
        "\n",
        "    if (pratica_menos_150mn.lower() == \"sim\"):\n",
        "        pratica_menos_150mn = 1\n",
        "    else:\n",
        "        ppratica_menos_150mn = 0\n",
        "\n",
        "    if (dieta_inadequada.lower() == \"sim\"):\n",
        "        dieta_inadequada = 1\n",
        "    else:\n",
        "        dieta_inadequada = 0\n",
        "\n",
        "    if (consome_alcool.lower() == \"sim\"):\n",
        "        consome_alcool = 1\n",
        "    else:\n",
        "        consome_alcool = 0\n",
        "\n",
        "    preds = clf.predict([[pressao_arterial, imc, historico, fumante, pratica_menos_150mn, dieta_inadequada, consome_alcool]])\n",
        "    # Concatenar a nova linha à matriz original\n",
        "    X_train_expandido = np.vstack([X_train, np.array([[pressao_arterial, imc, historico, fumante, pratica_menos_150mn, dieta_inadequada, consome_alcool]])])\n",
        "\n",
        "    explainer = TreeExplainer(clf)\n",
        "    sv = explainer(X_train_expandido)\n",
        "    exp = Explanation(sv.values[:,:,1],\n",
        "                    sv.base_values[:,1],\n",
        "                    data=X_train_expandido,\n",
        "                    #feature_names=df_train.drop('Rótulo', axis=1).columns)\n",
        "                    feature_names=['A1', 'A2', 'A3', 'A4', 'A5', 'A6', 'A7'])\n",
        "    #pegar a referência da figura\n",
        "    fig = plt.figure(figsize=(6, 8))\n",
        "    #último elemento que foi incluído agora\n",
        "    idx = -1\n",
        "    waterfall(exp[idx])\n",
        "\n",
        "    #realizando a predição\n",
        "    preds = clf.predict([[pressao_arterial, imc, historico, fumante, pratica_menos_150mn, dieta_inadequada, consome_alcool]])\n",
        "\n",
        "    if preds[0] == 1:\n",
        "        resp = f\"\"\"Você possui risco de uma doença cardíaca!\n",
        "        O gráfico acima mostra (em percentual) como esses fatores estão aumentando/diminuindo seu risco cardíaco.\\n\n",
        "        A1 - Pressão Arterial Alta\\n\n",
        "        A2 - IMC Alto\\n\n",
        "        A3 - Histórico Cardíaco Ruim\\n\n",
        "        A4 - Fumante\\n\n",
        "        A5 - Pratica menos de 150mn atv semana\\n\n",
        "        A6 - Possui uma dieta inadequada\\n\n",
        "        A7 - Consome bebidas alcoólicas \\n\"\"\"\n",
        "    else:\n",
        "        resp = f\"\"\"Atualmente você NÃO possui risco de uma doença cardíaca!\n",
        "        O gráfico acima mostra (em percentual) como esses fatores estão aumentando/diminuindo seu risco cardíaco.\\n\n",
        "        A1 - Pressão Arterial Alta\\n\n",
        "        A2 - IMC Alto\\n\n",
        "        A3 - Histórico Cardíaco Ruim\\n\n",
        "        A4 - Fumante\\n\n",
        "        A5 - Pratica menos de 150mn atv semana\\n\n",
        "        A6 - Possui uma dieta inadequada\\n\n",
        "        A7 - Consome bebidas alcoólicas\\n\"\"\"\n",
        "        resp = \"Atualmente você NÃO possui risco de uma doença cardíaca! O gráfico acima mostra (em percentual) como esses fatores estão aumentando/diminuindo seu risco cardíaco.\"\n",
        "    return fig, resp\n",
        "\n",
        "\n",
        "pressao_arterial = gr.Radio(['sim', 'não'], info = \"Você tem pressão arterial acima de 140/90 mmHg?\", label='Pressão Arterial')\n",
        "imc = gr.Radio(['sim', 'não'], info = \"Você tem índice de massa corporal (IMC) acima de 30?\", label='IMC')\n",
        "historico = gr.Radio(['sim', 'não'], info = \"Você tem histórico familiar de doença cardíaca?\", label='Histórico')\n",
        "fumante = gr.Radio(['sim', 'não'], info = \"Você fuma atualmente?\", label='Fumante')\n",
        "pratica_menos_150mn = gr.Radio(['sim', 'não'], info = \"Você pratica menos de 150 minutos de atividade física por semana?\", label='Pratica menos de 150mn atv semana')\n",
        "dieta_inadequada = gr.Radio(['sim', 'não'], info = \"Você possui uma dieta inadequada?\", label='Possui uma dieta inadequada')\n",
        "consome_alcool = gr.Radio(['sim', 'não'], info = \"Você consome excessivamente bebidas alcoólicas?\", label='Consome bebidas alcoólicas')\n",
        "\n",
        "output1 = gr.Plot(label=\"Explicação de risco cardíaco\")\n",
        "output2 = gr.TextArea(label=\"Explicação de gráfico de risco cardíaco do paciente\")"
      ]
    },
    {
      "cell_type": "code",
      "execution_count": 37,
      "metadata": {
        "colab": {
          "base_uri": "https://localhost:8080/",
          "height": 650
        },
        "id": "w4ndRNwZKXrV",
        "outputId": "369ce500-cc33-4c0a-b99d-172f1480deaf"
      },
      "outputs": [
        {
          "name": "stdout",
          "output_type": "stream",
          "text": [
            "Running on local URL:  http://127.0.0.1:7861\n",
            "\n",
            "To create a public link, set `share=True` in `launch()`.\n"
          ]
        },
        {
          "data": {
            "text/html": [
              "<div><iframe src=\"http://127.0.0.1:7861/\" width=\"100%\" height=\"500\" allow=\"autoplay; camera; microphone; clipboard-read; clipboard-write;\" frameborder=\"0\" allowfullscreen></iframe></div>"
            ],
            "text/plain": [
              "<IPython.core.display.HTML object>"
            ]
          },
          "metadata": {},
          "output_type": "display_data"
        },
        {
          "data": {
            "text/plain": []
          },
          "execution_count": 37,
          "metadata": {},
          "output_type": "execute_result"
        },
        {
          "name": "stderr",
          "output_type": "stream",
          "text": [
            "Traceback (most recent call last):\n",
            "  File \"c:\\Users\\facps\\anaconda3\\Lib\\site-packages\\gradio\\queueing.py\", line 541, in process_events\n",
            "    response = await route_utils.call_process_api(\n",
            "               ^^^^^^^^^^^^^^^^^^^^^^^^^^^^^^^^^^^\n",
            "  File \"c:\\Users\\facps\\anaconda3\\Lib\\site-packages\\gradio\\route_utils.py\", line 276, in call_process_api\n",
            "    output = await app.get_blocks().process_api(\n",
            "             ^^^^^^^^^^^^^^^^^^^^^^^^^^^^^^^^^^^\n",
            "  File \"c:\\Users\\facps\\anaconda3\\Lib\\site-packages\\gradio\\blocks.py\", line 1928, in process_api\n",
            "    result = await self.call_function(\n",
            "             ^^^^^^^^^^^^^^^^^^^^^^^^^\n",
            "  File \"c:\\Users\\facps\\anaconda3\\Lib\\site-packages\\gradio\\blocks.py\", line 1514, in call_function\n",
            "    prediction = await anyio.to_thread.run_sync(\n",
            "                 ^^^^^^^^^^^^^^^^^^^^^^^^^^^^^^^\n",
            "  File \"c:\\Users\\facps\\anaconda3\\Lib\\site-packages\\anyio\\to_thread.py\", line 28, in run_sync\n",
            "    return await get_asynclib().run_sync_in_worker_thread(func, *args, cancellable=cancellable,\n",
            "           ^^^^^^^^^^^^^^^^^^^^^^^^^^^^^^^^^^^^^^^^^^^^^^^^^^^^^^^^^^^^^^^^^^^^^^^^^^^^^^^^^^^^\n",
            "  File \"c:\\Users\\facps\\anaconda3\\Lib\\site-packages\\anyio\\_backends\\_asyncio.py\", line 818, in run_sync_in_worker_thread\n",
            "    return await future\n",
            "           ^^^^^^^^^^^^\n",
            "  File \"c:\\Users\\facps\\anaconda3\\Lib\\site-packages\\anyio\\_backends\\_asyncio.py\", line 754, in run\n",
            "    result = context.run(func, *args)\n",
            "             ^^^^^^^^^^^^^^^^^^^^^^^^\n",
            "  File \"c:\\Users\\facps\\anaconda3\\Lib\\site-packages\\gradio\\utils.py\", line 833, in wrapper\n",
            "    response = f(*args, **kwargs)\n",
            "               ^^^^^^^^^^^^^^^^^^\n",
            "  File \"C:\\Users\\facps\\AppData\\Local\\Temp\\ipykernel_14548\\3409655798.py\", line 36, in make_prediction\n",
            "    preds = clf.predict([[pressao_arterial, imc, historico, fumante, pratica_menos_150mn, dieta_inadequada, consome_alcool]])\n",
            "            ^^^^^^^^^^^^^^^^^^^^^^^^^^^^^^^^^^^^^^^^^^^^^^^^^^^^^^^^^^^^^^^^^^^^^^^^^^^^^^^^^^^^^^^^^^^^^^^^^^^^^^^^^^^^^^^^^\n",
            "  File \"c:\\Users\\facps\\anaconda3\\Lib\\site-packages\\sklearn\\ensemble\\_forest.py\", line 823, in predict\n",
            "    proba = self.predict_proba(X)\n",
            "            ^^^^^^^^^^^^^^^^^^^^^\n",
            "  File \"c:\\Users\\facps\\anaconda3\\Lib\\site-packages\\sklearn\\ensemble\\_forest.py\", line 865, in predict_proba\n",
            "    X = self._validate_X_predict(X)\n",
            "        ^^^^^^^^^^^^^^^^^^^^^^^^^^^\n",
            "  File \"c:\\Users\\facps\\anaconda3\\Lib\\site-packages\\sklearn\\ensemble\\_forest.py\", line 599, in _validate_X_predict\n",
            "    X = self._validate_data(X, dtype=DTYPE, accept_sparse=\"csr\", reset=False)\n",
            "        ^^^^^^^^^^^^^^^^^^^^^^^^^^^^^^^^^^^^^^^^^^^^^^^^^^^^^^^^^^^^^^^^^^^^^\n",
            "  File \"c:\\Users\\facps\\anaconda3\\Lib\\site-packages\\sklearn\\base.py\", line 604, in _validate_data\n",
            "    out = check_array(X, input_name=\"X\", **check_params)\n",
            "          ^^^^^^^^^^^^^^^^^^^^^^^^^^^^^^^^^^^^^^^^^^^^^^\n",
            "  File \"c:\\Users\\facps\\anaconda3\\Lib\\site-packages\\sklearn\\utils\\validation.py\", line 917, in check_array\n",
            "    array = _asarray_with_order(array, order=order, dtype=dtype, xp=xp)\n",
            "            ^^^^^^^^^^^^^^^^^^^^^^^^^^^^^^^^^^^^^^^^^^^^^^^^^^^^^^^^^^^\n",
            "  File \"c:\\Users\\facps\\anaconda3\\Lib\\site-packages\\sklearn\\utils\\_array_api.py\", line 380, in _asarray_with_order\n",
            "    array = numpy.asarray(array, order=order, dtype=dtype)\n",
            "            ^^^^^^^^^^^^^^^^^^^^^^^^^^^^^^^^^^^^^^^^^^^^^^\n",
            "ValueError: could not convert string to float: 'não'\n"
          ]
        }
      ],
      "source": [
        "app = gr.Interface(fn = make_prediction, inputs=[pressao_arterial, imc, historico, fumante, pratica_menos_150mn, dieta_inadequada, consome_alcool], outputs=[output1, output2])\n",
        "app.launch()"
      ]
    },
    {
      "cell_type": "markdown",
      "metadata": {
        "id": "002xmSbHFiLA"
      },
      "source": [
        "###DEIXE SEU FEEDEBACK\n",
        "* Qualquer opinião ou dica de aprimormento é bem vinda, ainda é o início dos meus estudos mas o importate é o aprimoramento.\n",
        "* Pode-se perceber que ocorre alguns erros com o modelo, visto que o número de dados está limitado tantos de treino como de teste.\n",
        "* Indique dataframes para o estudo de doenças.\n"
      ]
    }
  ],
  "metadata": {
    "colab": {
      "provenance": [],
      "toc_visible": true
    },
    "kernelspec": {
      "display_name": "Python 3",
      "language": "python",
      "name": "python3"
    },
    "language_info": {
      "codemirror_mode": {
        "name": "ipython",
        "version": 3
      },
      "file_extension": ".py",
      "mimetype": "text/x-python",
      "name": "python",
      "nbconvert_exporter": "python",
      "pygments_lexer": "ipython3",
      "version": "3.11.5"
    }
  },
  "nbformat": 4,
  "nbformat_minor": 0
}
